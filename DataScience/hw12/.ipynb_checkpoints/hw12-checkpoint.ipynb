{
 "cells": [
  {
   "cell_type": "markdown",
   "metadata": {
    "id": "UOA7kRu6SPdM"
   },
   "source": [
    "# <a href=\"https://miptstats.github.io/courses/ad_mipt.html\">Phystech@DataScience</a>\n",
    "## Домашнее задание 12\n",
    "\n",
    "**Правила, <font color=\"red\">прочитайте внимательно</font>:**\n",
    "\n",
    "* Выполненную работу нужно отправить телеграм-боту `@miptstats_pds_bot`. Для начала работы с ботом каждый раз отправляйте `/start`. **Работы, присланные иным способом, не принимаются.**\n",
    "* Дедлайн см. в боте. После дедлайна работы не принимаются кроме случаев наличия уважительной причины.\n",
    "* Прислать нужно ноутбук в формате `ipynb`.\n",
    "* Выполнять задание необходимо полностью самостоятельно. **При обнаружении списывания все участники списывания будут сдавать устный зачет.**\n",
    "* Решения, размещенные на каких-либо интернет-ресурсах, не принимаются. Кроме того, публикация решения в открытом доступе может быть приравнена к предоставлении возможности списать.\n",
    "* Для выполнения задания используйте этот ноутбук в качестве основы, ничего не удаляя из него. Можно добавлять необходимое количество ячеек.\n",
    "* Комментарии к решению пишите в markdown-ячейках.\n",
    "* Выполнение задания (ход решения, выводы и пр.) должно быть осуществлено на русском языке.\n",
    "* Если код будет не понятен проверяющему, оценка может быть снижена.\n",
    "* Никакой код из данного задания при проверке запускаться не будет. *Если код студента не выполнен, недописан и т.д., то он не оценивается.*\n",
    "* **Код из рассказанных на занятиях ноутбуков можно использовать без ограничений.**\n",
    "\n",
    "**Правила оформления теоретических задач:**\n",
    "\n",
    "* Решения необходимо прислать одним из следующих способов:\n",
    "  * фотографией в правильной ориентации, где все четко видно, а почерк разборчив,\n",
    "    * отправив ее как файл боту вместе с ноутбуком *или*\n",
    "    * вставив ее в ноутбук посредством `Edit -> Insert Image` (<font color=\"red\">фото, вставленные ссылкой, не принимаются</font>);\n",
    "  * в виде $\\LaTeX$ в markdown-ячейках.\n",
    "* Решения не проверяются, если какое-то требование не выполнено. Особенно внимательно все проверьте в случае выбора второго пункта (вставки фото в ноутбук). <font color=\"red\"><b>Неправильно вставленные фотографии могут не передаться при отправке.</b></font> Для проверки попробуйте переместить `ipynb` в другую папку и открыть его там.\n",
    "* В решениях поясняйте, чем вы пользуетесь, хотя бы кратко. Например, если пользуетесь независимостью, то достаточно подписи вида \"*X и Y незав.*\"\n",
    "* Решение, в котором есть только ответ, и отсутствуют вычисления, оценивается в 0 баллов.\n",
    "\n",
    "**Баллы за задание:**\n",
    "\n",
    "<b><font color=\"blue\">Легкая часть</font></b> (достаточно на \"хор\"):\n",
    "* Задача 1 &mdash;  40 баллов\n",
    "\n",
    "<b><font color=\"orange\">Сложная часть</font></b> (необходимо на \"отл\"):\n",
    "* Задача 2 &mdash;  50 баллов\n",
    "\n",
    "\n",
    "\n",
    "\n",
    "\n",
    "\n",
    "\n",
    "-----"
   ]
  },
  {
   "cell_type": "code",
   "execution_count": null,
   "metadata": {
    "id": "H2F8BuGMSPdQ"
   },
   "outputs": [],
   "source": [
    "# Bot check\n",
    "\n",
    "# HW_ID: phds_hw12\n",
    "# Бот проверит этот ID и предупредит, если случайно сдать что-то не то.\n",
    "\n",
    "# Status: final\n",
    "# Перед отправкой в финальном решении удали \"not\" в строчке выше.\n",
    "# Так бот проверит, что ты отправляешь финальную версию, а не промежуточную.\n",
    "# Никакие значения в этой ячейке не влияют на факт сдачи работы."
   ]
  },
  {
   "cell_type": "code",
   "execution_count": null,
   "metadata": {
    "id": "-DF2Asq8SPdR"
   },
   "outputs": [],
   "source": [
    "import numpy as np\n",
    "import scipy.stats as sps\n",
    "import torch\n",
    "from torch import nn\n",
    "import matplotlib.pyplot as plt\n",
    "from sklearn.model_selection import train_test_split\n",
    "from sklearn.linear_model import LinearRegression\n",
    "from sklearn.ensemble import RandomForestRegressor\n",
    "from sklearn.metrics import mean_squared_error, mean_absolute_error, mean_absolute_percentage_error"
   ]
  },
  {
   "cell_type": "markdown",
   "metadata": {
    "id": "uk7VsFWcSPdS"
   },
   "source": [
    "---\n",
    "## Задача 1\n",
    "\n",
    "Напишите  нейронную сеть с помощью библиотеки `pytorch`, используя Sequential-стиль. Перед выполнением задачи рекомендуется посмотреть <a href=\"https://miptstats.github.io/courses/ad_fivt/nn_simple_examples.html#3.-Готовые-модули-из-PyTorch\" target=\"_blank\">ноутбук</a> с занятия. \n",
    "\n",
    "*Внимание.* Для выполнения задачи потребуется установить библиотеку `pytorch`. Альтернативный вариант &mdash; выполнение в <a href=\"https://colab.research.google.com\" target=\"_blank\">Google Colab</a>. Учитывайте, что при длительном бездействии Colab может сам завершить работу ядра."
   ]
  },
  {
   "cell_type": "markdown",
   "metadata": {
    "id": "y6UOX9k8SPdT"
   },
   "source": [
    "Сгенерируем данные. Возьмите какую-либо нелинейную функцию $y(x)$ (например из лекции)."
   ]
  },
  {
   "cell_type": "code",
   "execution_count": null,
   "metadata": {
    "id": "yVQZycfASPdT"
   },
   "outputs": [],
   "source": [
    "sample_size = int(1e6)\n",
    "X = sps.norm.rvs(size=(sample_size, ))\n",
    "y = X**2 - 5 - np.abs(X)\n",
    "\n",
    "assert y.shape == (sample_size,)"
   ]
  },
  {
   "cell_type": "markdown",
   "metadata": {
    "id": "zRTLNEvgSPdT"
   },
   "source": [
    "Обучите нейронную сеть на этих данных, а также простую линейную регрессию и случайный лес. "
   ]
  },
  {
   "cell_type": "code",
   "execution_count": null,
   "metadata": {
    "colab": {
     "base_uri": "https://localhost:8080/"
    },
    "id": "YnX21GMlSPdT",
    "outputId": "93efc637-b598-4364-a2c2-faa979ccde36"
   },
   "outputs": [
    {
     "data": {
      "text/plain": [
       "tensor([[-0.2706],\n",
       "        [-0.2792],\n",
       "        [-0.2217],\n",
       "        ...,\n",
       "        [-0.2694],\n",
       "        [-0.2569],\n",
       "        [-0.2495]], grad_fn=<AddmmBackward0>)"
      ]
     },
     "execution_count": 28,
     "metadata": {},
     "output_type": "execute_result"
    }
   ],
   "source": [
    "model = nn.Sequential(\n",
    "    nn.Linear(in_features=1, out_features=10), \n",
    "    nn.ReLU(),  \n",
    "    nn.Linear(in_features=10, out_features=10),\n",
    "    nn.ReLU(),  \n",
    "    nn.Linear(in_features=10, out_features=10),\n",
    "    nn.ReLU(),  \n",
    "    nn.Linear(in_features=10, out_features=1)\n",
    ")\n",
    "x_new = torch.tensor(X.reshape(-1, 1),dtype=torch.float32)\n",
    "y_new = torch.tensor(y.reshape(-1, 1),dtype=torch.float32)\n",
    "optimizer = torch.optim.SGD(model.parameters(), lr=0.01)\n",
    "optim_func = nn.MSELoss()\n",
    "model(x_new)"
   ]
  },
  {
   "cell_type": "code",
   "execution_count": null,
   "metadata": {
    "id": "jS-VFgCnjeQb"
   },
   "outputs": [],
   "source": [
    "X_train, X_test, y_train, y_test = train_test_split(x_new,y_new, test_size=0.2, random_state=42)"
   ]
  },
  {
   "cell_type": "code",
   "execution_count": null,
   "metadata": {
    "id": "900W-xt8X6Ci"
   },
   "outputs": [],
   "source": [
    "num_iter = 1000\n",
    "\n",
    "for i in range(num_iter):\n",
    "\n",
    "    y_pred = model(X_train)\n",
    "    loss = optim_func(y_pred, y_train)\n",
    "    loss.backward()\n",
    "    optimizer.step()\n",
    "    optimizer.zero_grad()"
   ]
  },
  {
   "cell_type": "code",
   "execution_count": null,
   "metadata": {
    "id": "g45RfzoIYRSv"
   },
   "outputs": [],
   "source": []
  },
  {
   "cell_type": "code",
   "execution_count": null,
   "metadata": {
    "id": "cgLx0JSqmhLk"
   },
   "outputs": [],
   "source": [
    "lin_reg = LinearRegression()\n",
    "lin_reg.fit(X_train, y_train)\n",
    "y_lin_pred = lin_reg.predict(X_test)"
   ]
  },
  {
   "cell_type": "code",
   "execution_count": null,
   "metadata": {
    "colab": {
     "base_uri": "https://localhost:8080/"
    },
    "id": "NMf9gwAKm5aq",
    "outputId": "9a7bb036-b9e3-48ab-a5a9-1c9e75902f25"
   },
   "outputs": [
    {
     "name": "stderr",
     "output_type": "stream",
     "text": [
      "<ipython-input-32-ec9a5a8816ab>:2: DataConversionWarning: A column-vector y was passed when a 1d array was expected. Please change the shape of y to (n_samples,), for example using ravel().\n",
      "  forest.fit(X_train, y_train)\n"
     ]
    }
   ],
   "source": [
    "forest = RandomForestRegressor(n_estimators=20)\n",
    "forest.fit(X_train, y_train)\n",
    "y_forest_pred = forest.predict(X_test)"
   ]
  },
  {
   "cell_type": "code",
   "execution_count": null,
   "metadata": {
    "id": "o2psvjaRYG45"
   },
   "outputs": [],
   "source": [
    "y_pred = model(X_test)\n",
    "y_pred = y_pred.detach().numpy()"
   ]
  },
  {
   "cell_type": "markdown",
   "metadata": {
    "id": "Jxw8TZUgSPdU"
   },
   "source": [
    "Визуализируйте предсказания данных моделей и посчитайте MSE на тестовой части данных."
   ]
  },
  {
   "cell_type": "code",
   "execution_count": null,
   "metadata": {
    "colab": {
     "base_uri": "https://localhost:8080/",
     "height": 599
    },
    "id": "pu5_bCfRSPdU",
    "outputId": "118f2124-59f7-4c2f-e728-3de92c8b5ea6"
   },
   "outputs": [
    {
     "data": {
      "image/png": "[encoded data removed]",
      "text/plain": [
       "<Figure size 1000x700 with 1 Axes>"
      ]
     },
     "metadata": {},
     "output_type": "display_data"
    }
   ],
   "source": [
    "plt.figure(figsize=(10, 7))\n",
    "plt.scatter(X_test, y_pred, alpha=0.5, linewidth=3, label = \"Neural Network\")\n",
    "plt.scatter(X_test, y_lin_pred, alpha=0.5, linewidth=3, label = \"Linear Regression\")\n",
    "plt.scatter(X_test, y_forest_pred, alpha=0.5, linewidth=3, label = \"Random Forest\")\n",
    "plt.scatter(X_test, y_test, alpha=1, linewidth=0.1, label = \"reality\")\n",
    "plt.legend()\n",
    "plt.show()"
   ]
  },
  {
   "cell_type": "code",
   "execution_count": null,
   "metadata": {
    "colab": {
     "base_uri": "https://localhost:8080/"
    },
    "id": "WOD5mf0EUqlY",
    "outputId": "5cdf03b6-9568-48d9-f6f5-cb6ceaea5a91"
   },
   "outputs": [
    {
     "name": "stdout",
     "output_type": "stream",
     "text": [
      "MSE NN:  0.070116736\n",
      "MSE Forest:  5.0310505406152867e-05\n",
      "MSE LinReg:  0.7793868\n"
     ]
    }
   ],
   "source": [
    "print(\"MSE NN: \", mean_squared_error(y_pred, y_test))\n",
    "print(\"MSE Forest: \", mean_squared_error(y_forest_pred, y_test))\n",
    "print(\"MSE LinReg: \", mean_squared_error(y_lin_pred, y_test))"
   ]
  },
  {
   "cell_type": "markdown",
   "metadata": {
    "id": "guTWOaDySPdU"
   },
   "source": [
    "Повторите вычисления для нелинейной функции, зависящей от двух параметров $f(x, y)$."
   ]
  },
  {
   "cell_type": "markdown",
   "metadata": {
    "id": "9manwX-ZWR-6"
   },
   "source": [
    "Во избежании путаницы буду использовать $y = f(x_1,x_2) = x_1^3 + sin(x_1+x_2)-|x_1|$"
   ]
  },
  {
   "cell_type": "code",
   "execution_count": null,
   "metadata": {
    "id": "Rnu-c4OlSPdV"
   },
   "outputs": [],
   "source": [
    "sample_size = int(1e6)\n",
    "X = sps.norm.rvs(size=(sample_size, 2))\n",
    "y = X[:,0]**3 + np.sin(X.sum(axis = 1))- np.abs(X[:,1])"
   ]
  },
  {
   "cell_type": "code",
   "execution_count": null,
   "metadata": {
    "id": "cf5MRTpyXyUT"
   },
   "outputs": [],
   "source": [
    "model = nn.Sequential(\n",
    "    nn.Linear(in_features=2, out_features=10), \n",
    "    nn.ReLU(),  \n",
    "    nn.Linear(in_features=10, out_features=10),\n",
    "    nn.ReLU(),  \n",
    "    nn.Linear(in_features=10, out_features=10),\n",
    "    nn.ReLU(),  \n",
    "    nn.Linear(in_features=10, out_features=1)\n",
    ")\n",
    "x_new = torch.tensor(X,dtype=torch.float32)\n",
    "y_new = torch.tensor(y.reshape(-1, 1),dtype=torch.float32)\n",
    "optimizer = torch.optim.SGD(model.parameters(), lr=0.01)\n",
    "optim_func = nn.MSELoss()\n",
    "model(x_new)\n",
    "X_train, X_test, y_train, y_test = train_test_split(x_new,y_new, test_size=0.2, random_state=42)"
   ]
  },
  {
   "cell_type": "code",
   "execution_count": null,
   "metadata": {
    "id": "WqA6cG5VYT5m"
   },
   "outputs": [],
   "source": [
    "num_iter = 1000\n",
    "\n",
    "for i in range(num_iter):\n",
    "\n",
    "    y_pred = model(X_train)\n",
    "    loss = optim_func(y_pred, y_train)\n",
    "    loss.backward()\n",
    "    optimizer.step()\n",
    "    optimizer.zero_grad()"
   ]
  },
  {
   "cell_type": "code",
   "execution_count": null,
   "metadata": {
    "id": "BlKP329WYWta"
   },
   "outputs": [],
   "source": [
    "y_pred = model(X_test)\n",
    "y_pred = y_pred.detach().numpy()"
   ]
  },
  {
   "cell_type": "code",
   "execution_count": null,
   "metadata": {
    "id": "t-TP5qUiRwsP"
   },
   "outputs": [],
   "source": [
    "lin_reg = LinearRegression()\n",
    "lin_reg.fit(X_train, y_train)\n",
    "y_lin_pred = lin_reg.predict(X_test)"
   ]
  },
  {
   "cell_type": "code",
   "execution_count": null,
   "metadata": {
    "colab": {
     "base_uri": "https://localhost:8080/"
    },
    "id": "6AYSR2BYR0WN",
    "outputId": "8358e79d-ad09-4d68-e471-58937fcb6761"
   },
   "outputs": [
    {
     "name": "stderr",
     "output_type": "stream",
     "text": [
      "<ipython-input-10-ec9a5a8816ab>:2: DataConversionWarning: A column-vector y was passed when a 1d array was expected. Please change the shape of y to (n_samples,), for example using ravel().\n",
      "  forest.fit(X_train, y_train)\n"
     ]
    }
   ],
   "source": [
    "forest = RandomForestRegressor(n_estimators=20)\n",
    "forest.fit(X_train, y_train)\n",
    "y_forest_pred = forest.predict(X_test)"
   ]
  },
  {
   "cell_type": "code",
   "execution_count": null,
   "metadata": {
    "colab": {
     "base_uri": "https://localhost:8080/"
    },
    "id": "Ao7ou5zgYi0e",
    "outputId": "8c18f1cc-fec3-4527-c543-95f15015101c"
   },
   "outputs": [
    {
     "name": "stdout",
     "output_type": "stream",
     "text": [
      "MSE NN:  0.33781755\n",
      "MSE Forest:  0.0005265820819737683\n",
      "MSE LinReg:  6.0244126\n"
     ]
    }
   ],
   "source": [
    "print(\"MSE NN: \", mean_squared_error(y_pred, y_test))\n",
    "print(\"MSE Forest: \", mean_squared_error(y_forest_pred, y_test))\n",
    "print(\"MSE LinReg: \", mean_squared_error(y_lin_pred, y_test))"
   ]
  },
  {
   "cell_type": "markdown",
   "metadata": {
    "id": "yvY5P46XSPdV"
   },
   "source": [
    "**Вывод:**\n",
    "\n",
    "1) для аппроксимации сложной функции приходится использовать сложную NN\n",
    "\n",
    "2) при усложнении функции ошибка на тестовой выборке увеличивается, как и на остальных моделях(линейная регрессия вообще не подходит для данной задачи)\n",
    "\n",
    "3) из-за увеличения числа входных параметров и, соответственно, их весов на второй слой, время обучение увеличилось\n",
    "\n",
    "4) NN не предсказывает значения, далекие от 0. Я это могу объяснить тем, что наши данные имеют стандартное нормальное распределение, поэтому вдалеке от нуля находится мало значений при обучении, поэтому их аппроксимировать не так выгодно, как данные, близкие к нулю, потому что их попросту больше. \n",
    "\n",
    "Проверю это предположение на равномерном распределении\n",
    "\n",
    "P.S. Функция y = k*x + b не является линейной при b != 0, так что по логике можно было её использовать :)"
   ]
  },
  {
   "cell_type": "code",
   "execution_count": null,
   "metadata": {
    "colab": {
     "base_uri": "https://localhost:8080/"
    },
    "id": "gTlm50E_XMG4",
    "outputId": "97caa023-c51d-4c23-ddef-31dfc85053af"
   },
   "outputs": [
    {
     "data": {
      "text/plain": [
       "tensor([[-0.0300],\n",
       "        [-0.0324],\n",
       "        [ 0.0083],\n",
       "        ...,\n",
       "        [ 0.0107],\n",
       "        [-0.0750],\n",
       "        [-0.0389]], grad_fn=<AddmmBackward0>)"
      ]
     },
     "execution_count": 21,
     "metadata": {},
     "output_type": "execute_result"
    }
   ],
   "source": [
    "sample_size = int(1e6)\n",
    "X = sps.uniform.rvs(loc = -4, scale = 8,size=(sample_size,))\n",
    "y = X**2 - 5 - np.abs(X)\n",
    "model = nn.Sequential(\n",
    "    nn.Linear(in_features=1, out_features=10), \n",
    "    nn.ReLU(),  \n",
    "    nn.Linear(in_features=10, out_features=10),\n",
    "    nn.ReLU(),  \n",
    "    nn.Linear(in_features=10, out_features=10),\n",
    "    nn.ReLU(),  \n",
    "    nn.Linear(in_features=10, out_features=1)\n",
    ")\n",
    "x_new = torch.tensor(X.reshape(-1, 1),dtype=torch.float32)\n",
    "y_new = torch.tensor(y.reshape(-1, 1),dtype=torch.float32)\n",
    "optimizer = torch.optim.SGD(model.parameters(), lr=0.01)\n",
    "optim_func = nn.MSELoss()\n",
    "model(x_new)"
   ]
  },
  {
   "cell_type": "code",
   "execution_count": null,
   "metadata": {
    "id": "eipcRO9UYN1D"
   },
   "outputs": [],
   "source": [
    "X_train, X_test, y_train, y_test = train_test_split(x_new,y_new, test_size=0.2, random_state=42)"
   ]
  },
  {
   "cell_type": "code",
   "execution_count": null,
   "metadata": {
    "id": "aZjk1zfBXkHH"
   },
   "outputs": [],
   "source": [
    "num_iter = 1000\n",
    "\n",
    "for i in range(num_iter):\n",
    "\n",
    "    y_pred = model(X_train)\n",
    "    loss = optim_func(y_pred, y_train)\n",
    "    loss.backward()\n",
    "    optimizer.step()\n",
    "    optimizer.zero_grad()"
   ]
  },
  {
   "cell_type": "code",
   "execution_count": null,
   "metadata": {
    "colab": {
     "base_uri": "https://localhost:8080/",
     "height": 599
    },
    "id": "L8cFi_OLYX-B",
    "outputId": "93e27336-2a42-4687-d826-074cfaad194f"
   },
   "outputs": [
    {
     "data": {
      "image/png": "[encoded data removed]",
      "text/plain": [
       "<Figure size 1000x700 with 1 Axes>"
      ]
     },
     "metadata": {},
     "output_type": "display_data"
    }
   ],
   "source": [
    "y_pred = model(X_test)\n",
    "y_pred = y_pred.detach().numpy()\n",
    "plt.figure(figsize=(10, 7))\n",
    "plt.scatter(X_test, y_pred, alpha=0.5, linewidth=3, label = \"Neural Network\")\n",
    "plt.scatter(X_test, y_test, alpha=1, linewidth=0.1, label = \"reality\")\n",
    "plt.legend()\n",
    "plt.show()"
   ]
  },
  {
   "cell_type": "code",
   "execution_count": null,
   "metadata": {
    "colab": {
     "base_uri": "https://localhost:8080/"
    },
    "id": "8CSXmhlTanIi",
    "outputId": "e799aa58-92a0-471e-caf2-f594082b847f"
   },
   "outputs": [
    {
     "name": "stdout",
     "output_type": "stream",
     "text": [
      "MSE NN:  0.0854192\n"
     ]
    }
   ],
   "source": [
    "print(\"MSE NN: \", mean_squared_error(y_pred, y_test))"
   ]
  },
  {
   "cell_type": "markdown",
   "metadata": {
    "id": "Tk9MGJMYatyq"
   },
   "source": [
    "Сработало!\n",
    "\n",
    "Видно, что сама аппроксимация стала более ломаной, но зато она захватывает значения вдали нуля"
   ]
  },
  {
   "cell_type": "markdown",
   "metadata": {
    "id": "hcER2eruSPdV"
   },
   "source": [
    "---\n",
    "## Задача 2\n",
    "\n",
    "Рассмотрим двуслойную нейронную сеть, которая принимает на вход $x\\in\\mathbb{R}$ и возвращает $y\\in\\mathbb{R}$. Выход первого слоя возвращает $u \\in\\mathbb{R}^2$. После первого слоя используется функция активации $\\sigma(x) = \\frac{1}{1 + \\exp(-x)}$, после второго слоя функция активации не используется (или используется тождественная). Тем самым нашу нейронную можно представить в виде\n",
    "\n",
    "$$\\widehat{y}(x) = \\sum_{h=1}^2 w_{2h}u_h(x) + b_2,$$\n",
    "\n",
    "$$u_h(x) = \\sigma(w_{1h}x + b_{1h}),$$\n",
    "\n",
    "$$\\text{где} \\; h \\in \\{1, 2\\}.$$"
   ]
  },
  {
   "cell_type": "markdown",
   "metadata": {
    "id": "rlfOe4lySPdV"
   },
   "source": [
    "**1.** Нарисуйте схематически данную нейронную сеть. Сколько у нее обучаемых параметров?"
   ]
  },
  {
   "cell_type": "markdown",
   "metadata": {
    "id": "gj_OvW-0SPdV"
   },
   "source": [
    "7, схему прикрепил в боте"
   ]
  },
  {
   "cell_type": "markdown",
   "metadata": {
    "id": "13svXR2JZu8g"
   },
   "source": []
  },
  {
   "cell_type": "markdown",
   "metadata": {
    "id": "zil5GSVZSPdW"
   },
   "source": [
    "**2.** Пусть нам дана обучающая выборка $(X_1, Y_1), ..., (X_n, Y_n)$, где $X_i \\in \\mathbb{R}$ и $Y_i \\in \\mathbb{R}$. Нейронная сеть обучается по этой выборке, минимизируя заданную функцию $L$ &mdash; функцию ошибки. Положим, что $L$ &mdash; это MSE:\n",
    "$$\\text{MSE} = L(X, Y) = \\frac{1}{n}\\sum_{i=1}^n \\big(Y_i - \\widehat{y}(X_i)\\big)^2.$$\n",
    "\n",
    "Наша задача &mdash; найти оптимальные параметры нашей модели для минимизации $L(X, Y)$ на заданном наборе данных. Мы будем решать эту задачу с помощью градиентного спуска. Для этого нам понадобится выписать производные по всем параметрам сети. Конечно, в данном случае довольно просто выписать все производные напрямую. Однако мы воспользуемся следующей хитростью: мы будем считать производные поэтапно, причем начнем с конца вычислительной цепочки и, используя формулу производной сложной функции, последовательно посчитаем все необходимые производные. Этот процесс называется методом **обратного распространения ошибки (backpropagation)**."
   ]
  },
  {
   "cell_type": "markdown",
   "metadata": {
    "id": "jy1eaQXzSPdW"
   },
   "source": [
    "**2.1.** Начнем с производной MSE по выходам сети\n",
    "$$\\frac{\\partial\\:\\text{MSE}}{\\partial \\widehat{y}(X_i)} = \\; \\frac{2}{n}\\sum_{i=1}^n \\big(\\widehat{y}(X_i) - Y_i)$$"
   ]
  },
  {
   "cell_type": "markdown",
   "metadata": {
    "id": "4aXM6yOXSPdW"
   },
   "source": [
    "**2.2** Возьмем производные выходов сети по параметрам последнего слоя\n",
    "\n",
    "$$\\frac{\\partial \\widehat{y}(X_i)}{\\partial w_{2h}} = \\; u_h(x) = \\sigma(w_{1h}x + b_{1h})$$\n",
    "\n",
    "$$\\frac{\\partial \\widehat{y}(X_i)}{\\partial b_2} = \\; 2$$\n",
    "\n",
    "Также выпишем производные выходов сети по входам последнего слоя\n",
    "\n",
    "$$\\frac{\\partial \\widehat{y}(X_i)}{\\partial u_h(X_i)} = \\; w_{2h}$$\n",
    "\n",
    "Теперь выпишем производные MSE по параметрам и входам последнего слоя. Для этого вспомните правило производной сложной функции из математического анализа. Обратите внимание на то, что нам не нужно прописывать все производные до конца, достаточно заполнить пропуски в записи ниже:\n",
    "\n",
    "$$\\frac{\\partial\\:\\text{MSE}}{\\partial w_{2h}} = \\sum_{i=1}^n \\frac{\\partial\\:\\text{MSE}}{\\partial \\widehat{y}(X_i)} \\frac{\\partial \\widehat{y}(X_i)}{\\partial w_{2h}}$$\n",
    "\n",
    "$$\\frac{\\partial\\:\\text{MSE}}{\\partial b_2} = \\sum_{i=1}^n \\frac{\\partial\\:\\text{MSE}}{\\partial \\widehat{y}(X_i)} \\frac{\\partial \\widehat{y}(X_i)}{\\partial b_2}$$\n",
    "\n",
    "$$\\frac{\\partial\\:\\text{MSE}}{\\partial u_h} = \\sum_{i=1}^n \\frac{\\partial\\:\\text{MSE}}{\\partial \\widehat{y}(X_i)} \\frac{\\partial \\widehat{y}(X_i)}{\\partial u_h}$$"
   ]
  },
  {
   "cell_type": "markdown",
   "metadata": {
    "id": "yHIjAOsMSPdW"
   },
   "source": [
    "**2.3.** Теперь будем разбираться с производными по параметрам первого слоя.\n",
    "\n",
    "Для начала нам пригодится производная функции активации, запишите ее так, чтобы ответе осталась функция от $\\sigma(x)$\n",
    "\n",
    "$$\\frac{\\partial\\:\\sigma(x)}{\\partial x} = \\; \\sigma(x)\\cdot(1-\\sigma(x))$$\n",
    "\n",
    "Теперь возьмем производные выходов первого слоя по его параметрам\n",
    "\n",
    "$$\\frac{\\partial u_h(X_i)}{\\partial w_{1h}} = \\; \\sigma(w_{1h} X_i + b_{1h})\\cdot(1-\\sigma(w_{1h} X_i + b_{1h}))\\cdot X_i$$\n",
    "\n",
    "$$\\frac{\\partial u_h(X_i)}{\\partial b_{1h}} = \\; \\sigma(w_{1h} X_i + b_{1h})\\cdot(1-\\sigma(w_{1h} X_i + b_{1h}))$$\n",
    "\n",
    "Наконец, выпишем производные MSE по параметрам первого слоя. Так же как и раньше достаточно заполнить пропуски в записи ниже\n",
    "\n",
    "$$\\frac{\\partial\\:\\text{MSE}}{\\partial w_{1h}} = \\; \\sum_{i=1}^n \\frac{\\partial\\:\\text{MSE}}{\\partial \\widehat{y}(X_i)} \\frac{\\partial \\widehat{y}(X_i)}{\\partial w_{1h}}$$\n",
    "\n",
    "$$\\frac{\\partial\\:\\text{MSE}}{\\partial b_{1h}} = \\; \\sum_{i=1}^n \\frac{\\partial\\:\\text{MSE}}{\\partial \\widehat{y}(X_i)} \\frac{\\partial \\widehat{y}(X_i) }{\\partial b_{1h}}$$"
   ]
  },
  {
   "cell_type": "markdown",
   "metadata": {
    "id": "oesiSgR6SPdW"
   },
   "source": [
    "**3.** Пусть обучающая выборка очень большая. Что нужно делать в таком случае? Запишите, как нужно поменять правило обновления параметров.\n",
    "\n",
    "---\n",
    "1) Стохастический градиентный спуск позволяет не считать все градиенты, что ускоряет обучение.\n",
    "\n",
    "Параметры, по которым не была посчитана производная, остаются на следующую итерацию без изменений.\n",
    "\n",
    "Параметры, по которым была посчитана производная, изменяются согласно формуле градиентного спуска.\n",
    "\n",
    "В итоге запишем следующую формулу: \n",
    "\n",
    "$$\\theta_{t+1} = \\theta_{t} + \\eta \\cdot \\nabla' L(\\theta_t)$$\n",
    "\n",
    "где \n",
    "\n",
    "$\\nabla' L(\\theta_t^i) = 0$, если по $\\theta_t^i$ не считалась производная\n",
    "\n",
    "$\\nabla' L(\\theta_t^i) = \\frac{\\partial\\:\\text{MSE}}{\\partial\\theta_t^i}$, если по $\\theta_t^i$ производная считалась\n",
    "\n",
    "(надеюсь, понятно написал)\n",
    "\n",
    "2) Мини-батчи: разбиваем данные небольшие батчи и обучаем модель на каждом из них по-отдельности"
   ]
  },
  {
   "cell_type": "markdown",
   "metadata": {
    "id": "6HHOGK_HSPdX"
   },
   "source": [
    "**Вывод:**\n",
    "\n",
    "При обучении NN приходится считать много производных, но есть алгоритмы, ускоряющие процесс"
   ]
  },
  {
   "cell_type": "markdown",
   "metadata": {
    "id": "eZSF9cK1ODsw"
   },
   "source": [
    "**Главный вывод:**\n",
    "\n",
    "Это дз 12, из чего можно сделать вывод, что это последняя домашка в этом семестре... 😞\n",
    "\n",
    "Я очень рад, что прошёл этот курс, он был самым интересным не только за этот семестр, но и за всё обучение на физтехе 💗\n",
    "\n",
    "Выражаю огромную благодарность всем причастным к этому курсу людям! Спасибо Вам большое\n",
    "\n",
    "Желаю всем отлично провести это лето и до встречи в следующем семестре! 😘"
   ]
  }
 ],
 "metadata": {
  "colab": {
   "provenance": []
  },
  "kernelspec": {
   "display_name": "Python 3 (ipykernel)",
   "language": "python",
   "name": "python3"
  },
  "language_info": {
   "codemirror_mode": {
    "name": "ipython",
    "version": 3
   },
   "file_extension": ".py",
   "mimetype": "text/x-python",
   "name": "python",
   "nbconvert_exporter": "python",
   "pygments_lexer": "ipython3",
   "version": "3.9.13"
  }
 },
 "nbformat": 4,
 "nbformat_minor": 1
}
