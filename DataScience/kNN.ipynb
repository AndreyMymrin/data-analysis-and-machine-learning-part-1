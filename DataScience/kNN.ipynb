{
 "cells": [
  {
   "cell_type": "code",
   "execution_count": 79,
   "id": "1cf98f38",
   "metadata": {},
   "outputs": [
    {
     "name": "stdout",
     "output_type": "stream",
     "text": [
      "[[1, 2, 5], [5, 2, 1]]\n",
      "[[0 1 2]\n",
      " [2 1 0]]\n"
     ]
    },
    {
     "data": {
      "text/plain": [
       "array([[1, 2],\n",
       "       [3, 2]], dtype=int64)"
      ]
     },
     "execution_count": 79,
     "metadata": {},
     "output_type": "execute_result"
    }
   ],
   "source": [
    "import numpy as np\n",
    "import typing as tp\n",
    "\n",
    "\n",
    "def find_nearest_points(A: np.ndarray, B: np.ndarray, k: int) -> np.ndarray:   \n",
    "    difference = np.array([A]*B.shape[0]) - np.stack((np.array([B[0]]*A.shape[0]),np.array([B[1]]*A.shape[0])), axis = 0)\n",
    "    \n",
    "    length = [[(difference[i][j]@difference[i][j]) for j in range(A.shape[0])] for i in range(B.shape[0])]\n",
    "    print(length)\n",
    "    min = np.argpartition(length,2)\n",
    "    print(min)\n",
    "    C = [[min[i][j] for j in range(k)] for i in range(B.shape[0])]\n",
    "    C += np.int64(np.ones((B.shape[0], k)))\n",
    "    return C\n",
    "\n",
    "A = np.array([[0, 0], [1, 0], [2, 0]])\n",
    "B = np.array([[0, 1], [2, 1]])\n",
    "find_nearest_points(A,B,2)"
   ]
  }
 ],
 "metadata": {
  "kernelspec": {
   "display_name": "Python 3 (ipykernel)",
   "language": "python",
   "name": "python3"
  },
  "language_info": {
   "codemirror_mode": {
    "name": "ipython",
    "version": 3
   },
   "file_extension": ".py",
   "mimetype": "text/x-python",
   "name": "python",
   "nbconvert_exporter": "python",
   "pygments_lexer": "ipython3",
   "version": "3.9.13"
  }
 },
 "nbformat": 4,
 "nbformat_minor": 5
}
