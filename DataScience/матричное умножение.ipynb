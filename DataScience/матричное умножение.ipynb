{
 "cells": [
  {
   "cell_type": "code",
   "execution_count": 120,
   "id": "4a4a3573",
   "metadata": {},
   "outputs": [
    {
     "name": "stdout",
     "output_type": "stream",
     "text": [
      "[[ 1.          1.45833333  1.91666667  2.375       2.83333333]\n",
      " [ 3.29166667  3.75        4.20833333  4.66666667  5.125     ]\n",
      " [ 5.58333333  6.04166667  6.5         6.95833333  7.41666667]\n",
      " [ 7.875       8.33333333  8.79166667  9.25        9.70833333]\n",
      " [10.16666667 10.625      11.08333333 11.54166667 12.        ]]\n",
      "[[ 2.          2.45833333  2.91666667  3.375       3.83333333]\n",
      " [ 4.29166667  4.75        5.20833333  5.66666667  6.125     ]\n",
      " [ 6.58333333  7.04166667  7.5         7.95833333  8.41666667]\n",
      " [ 8.875       9.33333333  9.79166667 10.25       10.70833333]\n",
      " [11.16666667 11.625      12.08333333 12.54166667 13.        ]]\n",
      "[[ 0.00000000e+00  1.42108547e-14  0.00000000e+00 -1.42108547e-14\n",
      "  -1.42108547e-14]\n",
      " [ 0.00000000e+00  0.00000000e+00  2.84217094e-14  0.00000000e+00\n",
      "   0.00000000e+00]\n",
      " [-2.84217094e-14 -2.84217094e-14  0.00000000e+00  0.00000000e+00\n",
      "   0.00000000e+00]\n",
      " [-5.68434189e-14  5.68434189e-14  0.00000000e+00  0.00000000e+00\n",
      "   0.00000000e+00]\n",
      " [ 0.00000000e+00  0.00000000e+00  0.00000000e+00  0.00000000e+00\n",
      "  -5.68434189e-14]]\n"
     ]
    }
   ],
   "source": [
    "import numpy\n",
    "#import typing as tp\n",
    "\n",
    "def matrix_multiplication(A, B):\n",
    "    l = B.shape[1]\n",
    "    A2 = numpy.array([A]*l)\n",
    "    B2 = numpy.array([B]*l)\n",
    "    B2 = numpy.stack(B2, axis = 1)\n",
    "    C = numpy.sum(A2*B2.T, axis = 2).T\n",
    "    return C\n",
    "\n",
    "A = np.linspace(1, 12, 25).reshape(5,5)\n",
    "B = np.linspace(2, 13, 25).reshape(5,5)\n",
    "#A = np.linspace(1, 12, 12).reshape(3,4)\n",
    "#B = np.linspace(2, 13, 12).reshape(4,3)\n",
    "print(A)\n",
    "print(B)\n",
    "#print(A@B)\n",
    "C = matrix_multiplication(A, B)\n",
    "print(C- A@B)\n"
   ]
  }
 ],
 "metadata": {
  "kernelspec": {
   "display_name": "Python 3 (ipykernel)",
   "language": "python",
   "name": "python3"
  },
  "language_info": {
   "codemirror_mode": {
    "name": "ipython",
    "version": 3
   },
   "file_extension": ".py",
   "mimetype": "text/x-python",
   "name": "python",
   "nbconvert_exporter": "python",
   "pygments_lexer": "ipython3",
   "version": "3.9.13"
  }
 },
 "nbformat": 4,
 "nbformat_minor": 5
}
