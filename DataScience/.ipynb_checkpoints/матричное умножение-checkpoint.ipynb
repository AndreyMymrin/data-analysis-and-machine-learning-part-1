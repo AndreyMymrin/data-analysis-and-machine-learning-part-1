{
 "cells": [
  {
   "cell_type": "code",
   "execution_count": 69,
   "id": "c051f176",
   "metadata": {},
   "outputs": [
    {
     "name": "stdout",
     "output_type": "stream",
     "text": [
      "[[13.17708333 13.40277778 13.62847222 13.85416667 14.07986111]\n",
      " [15.69444444 15.96354167 16.23263889 16.50173611 16.77083333]\n",
      " [18.21180556 18.52430556 18.83680556 19.14930556 19.46180556]\n",
      " [20.72916667 21.08506944 21.44097222 21.796875   22.15277778]\n",
      " [23.24652778 23.64583333 24.04513889 24.44444444 24.84375   ]]\n",
      "[[ 0.00000000e+00  1.77635684e-15 -1.77635684e-15 -1.77635684e-15\n",
      "   0.00000000e+00]\n",
      " [ 0.00000000e+00  0.00000000e+00 -3.55271368e-15  0.00000000e+00\n",
      "   0.00000000e+00]\n",
      " [ 3.55271368e-15  0.00000000e+00  0.00000000e+00  3.55271368e-15\n",
      "   0.00000000e+00]\n",
      " [ 0.00000000e+00  0.00000000e+00 -3.55271368e-15  0.00000000e+00\n",
      "   3.55271368e-15]\n",
      " [ 0.00000000e+00  0.00000000e+00  0.00000000e+00  0.00000000e+00\n",
      "   0.00000000e+00]]\n"
     ]
    }
   ],
   "source": [
    "import numpy as np\n",
    "#import typing as tp\n",
    "\n",
    "def matrix_multiplication(A, B):    \n",
    "    A2 = np.array([A]*B.shape[1])\n",
    "    B2 = np.array([B.T]*A.shape[1])\n",
    "    B2 = np.stack(B2.T, axis = -1)\n",
    "    C = np.sum(A2*B2, axis = 2)\n",
    "    return C.T\n",
    "\n",
    "A = np.linspace(1, 2, 25).reshape(5, 5)\n",
    "B = np.linspace(2, 3, 25).reshape(5, 5)\n",
    "#print(A)\n",
    "#print(B)\n",
    "print(A@B)\n",
    "C = matrix_multiplication(A, B)\n",
    "print(C- A@B)\n"
   ]
  }
 ],
 "metadata": {
  "kernelspec": {
   "display_name": "Python 3 (ipykernel)",
   "language": "python",
   "name": "python3"
  },
  "language_info": {
   "codemirror_mode": {
    "name": "ipython",
    "version": 3
   },
   "file_extension": ".py",
   "mimetype": "text/x-python",
   "name": "python",
   "nbconvert_exporter": "python",
   "pygments_lexer": "ipython3",
   "version": "3.9.13"
  }
 },
 "nbformat": 4,
 "nbformat_minor": 5
}
