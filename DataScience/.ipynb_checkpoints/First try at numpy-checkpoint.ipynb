{
 "cells": [
  {
   "cell_type": "code",
   "execution_count": 6,
   "id": "5784d19f",
   "metadata": {},
   "outputs": [],
   "source": [
    "import numpy as np\n"
   ]
  },
  {
   "cell_type": "code",
   "execution_count": 34,
   "id": "86f54721",
   "metadata": {},
   "outputs": [
    {
     "data": {
      "text/plain": [
       "array('a', dtype='<U1')"
      ]
     },
     "execution_count": 34,
     "metadata": {},
     "output_type": "execute_result"
    }
   ],
   "source": [
    "a = np.array([1,2,3,4,5,6], 'str_')\n",
    "b = a.reshape(3,2)\n",
    "b = np.complex64(a)"
   ]
  },
  {
   "cell_type": "code",
   "execution_count": 38,
   "id": "73bc0ea9",
   "metadata": {},
   "outputs": [
    {
     "data": {
      "text/plain": [
       "array([[1, 2],\n",
       "       [3, 4],\n",
       "       [5, 1]])"
      ]
     },
     "execution_count": 38,
     "metadata": {},
     "output_type": "execute_result"
    }
   ],
   "source": [
    "a = np.array([[1,2],[3,4],[5,1]])\n",
    "a"
   ]
  },
  {
   "cell_type": "code",
   "execution_count": 45,
   "id": "73a9dc5a",
   "metadata": {},
   "outputs": [
    {
     "data": {
      "text/plain": [
       "array([[-4672, 17303],\n",
       "       [  617,     0],\n",
       "       [    0,     0]], dtype=int16)"
      ]
     },
     "execution_count": 45,
     "metadata": {},
     "output_type": "execute_result"
    }
   ],
   "source": [
    "np.array([1]*5)\n",
    "\n",
    "np.empty((3,2), dtype ='int16')"
   ]
  },
  {
   "cell_type": "code",
   "execution_count": 47,
   "id": "14c5b516",
   "metadata": {},
   "outputs": [
    {
     "data": {
      "text/plain": [
       "array([[1., 0.],\n",
       "       [0., 1.],\n",
       "       [0., 0.]])"
      ]
     },
     "execution_count": 47,
     "metadata": {},
     "output_type": "execute_result"
    }
   ],
   "source": [
    "np.eye(3)\n",
    "np.eye(3,2)"
   ]
  },
  {
   "cell_type": "code",
   "execution_count": 49,
   "id": "d09966dd",
   "metadata": {},
   "outputs": [
    {
     "data": {
      "text/plain": [
       "array([[5., 0., 0., 0.],\n",
       "       [0., 5., 0., 0.],\n",
       "       [0., 0., 5., 0.],\n",
       "       [0., 0., 0., 5.]])"
      ]
     },
     "execution_count": 49,
     "metadata": {},
     "output_type": "execute_result"
    }
   ],
   "source": [
    "np.identity(4)*5"
   ]
  },
  {
   "cell_type": "code",
   "execution_count": 50,
   "id": "802178c6",
   "metadata": {},
   "outputs": [
    {
     "data": {
      "text/plain": [
       "array([[5, 5],\n",
       "       [5, 5],\n",
       "       [5, 5]])"
      ]
     },
     "execution_count": 50,
     "metadata": {},
     "output_type": "execute_result"
    }
   ],
   "source": [
    "np.full((3,2),5)"
   ]
  },
  {
   "cell_type": "code",
   "execution_count": 53,
   "id": "c9d04b1f",
   "metadata": {},
   "outputs": [
    {
     "data": {
      "text/plain": [
       "matrix([[1, 2, 3],\n",
       "        [4, 5, 6],\n",
       "        [7, 8, 9]])"
      ]
     },
     "execution_count": 53,
     "metadata": {},
     "output_type": "execute_result"
    }
   ],
   "source": [
    "a = np.mat('1 2 3; 4,5, 6; 7 8 9')\n",
    "a"
   ]
  },
  {
   "cell_type": "code",
   "execution_count": 54,
   "id": "6826c902",
   "metadata": {},
   "outputs": [
    {
     "data": {
      "text/plain": [
       "array([1, 5, 9])"
      ]
     },
     "execution_count": 54,
     "metadata": {},
     "output_type": "execute_result"
    }
   ],
   "source": [
    "np.diag(a)"
   ]
  },
  {
   "cell_type": "code",
   "execution_count": 55,
   "id": "fdd584cd",
   "metadata": {},
   "outputs": [
    {
     "data": {
      "text/plain": [
       "matrix([[1, 0, 0, 0, 0, 0, 0, 0, 0],\n",
       "        [0, 2, 0, 0, 0, 0, 0, 0, 0],\n",
       "        [0, 0, 3, 0, 0, 0, 0, 0, 0],\n",
       "        [0, 0, 0, 4, 0, 0, 0, 0, 0],\n",
       "        [0, 0, 0, 0, 5, 0, 0, 0, 0],\n",
       "        [0, 0, 0, 0, 0, 6, 0, 0, 0],\n",
       "        [0, 0, 0, 0, 0, 0, 7, 0, 0],\n",
       "        [0, 0, 0, 0, 0, 0, 0, 8, 0],\n",
       "        [0, 0, 0, 0, 0, 0, 0, 0, 9]])"
      ]
     },
     "execution_count": 55,
     "metadata": {},
     "output_type": "execute_result"
    }
   ],
   "source": [
    "np.diagflat(a)"
   ]
  },
  {
   "cell_type": "code",
   "execution_count": 56,
   "id": "223d61d9",
   "metadata": {},
   "outputs": [
    {
     "data": {
      "text/plain": [
       "array([[1., 0., 0., 0.],\n",
       "       [1., 1., 0., 0.],\n",
       "       [1., 1., 1., 0.],\n",
       "       [1., 1., 1., 1.]])"
      ]
     },
     "execution_count": 56,
     "metadata": {},
     "output_type": "execute_result"
    }
   ],
   "source": [
    "np.tri(4,4)"
   ]
  },
  {
   "cell_type": "code",
   "execution_count": 58,
   "id": "9ece1236",
   "metadata": {},
   "outputs": [
    {
     "data": {
      "text/plain": [
       "array([[1, 2, 3],\n",
       "       [0, 5, 6],\n",
       "       [0, 0, 9]])"
      ]
     },
     "execution_count": 58,
     "metadata": {},
     "output_type": "execute_result"
    }
   ],
   "source": [
    "np.tril(a) #приводит к треугольному виду\n",
    "np.triu(a)"
   ]
  },
  {
   "cell_type": "code",
   "execution_count": 68,
   "id": "13ca480c",
   "metadata": {},
   "outputs": [
    {
     "data": {
      "text/plain": [
       "array([3.14159265, 3.64159265, 4.14159265, 4.64159265])"
      ]
     },
     "execution_count": 68,
     "metadata": {},
     "output_type": "execute_result"
    }
   ],
   "source": [
    "a = np.arange(np.pi,5, 0.5)\n",
    "a"
   ]
  },
  {
   "cell_type": "code",
   "execution_count": 65,
   "id": "dc7b60c4",
   "metadata": {},
   "outputs": [
    {
     "data": {
      "text/plain": [
       "array([-0.41614684, -0.80114362, -0.9899925 , -0.93645669, -0.65364362,\n",
       "       -0.2107958 ])"
      ]
     },
     "execution_count": 65,
     "metadata": {},
     "output_type": "execute_result"
    }
   ],
   "source": [
    "np.cos(np.arange(2,5, 0.5))"
   ]
  },
  {
   "cell_type": "code",
   "execution_count": 70,
   "id": "e055c426",
   "metadata": {},
   "outputs": [
    {
     "data": {
      "text/plain": [
       "array([ 0. ,  2.5,  5. ,  7.5, 10. ])"
      ]
     },
     "execution_count": 70,
     "metadata": {},
     "output_type": "execute_result"
    }
   ],
   "source": [
    "np.linspace(0,10,5)"
   ]
  },
  {
   "cell_type": "code",
   "execution_count": 73,
   "id": "c8002537",
   "metadata": {},
   "outputs": [
    {
     "data": {
      "text/plain": [
       "array([[1, 2],\n",
       "       [3, 4]])"
      ]
     },
     "execution_count": 73,
     "metadata": {},
     "output_type": "execute_result"
    }
   ],
   "source": [
    "a = np.array( [(1,2),(3,4)])\n",
    "a\n",
    "b = np.copy(a)"
   ]
  },
  {
   "cell_type": "code",
   "execution_count": 81,
   "id": "281a0076",
   "metadata": {},
   "outputs": [
    {
     "data": {
      "text/plain": [
       "array([[ 0.,  1.,  2.],\n",
       "       [10., 11., 12.]])"
      ]
     },
     "execution_count": 81,
     "metadata": {},
     "output_type": "execute_result"
    }
   ],
   "source": [
    "def fun(x,y):\n",
    "    return 10*x+y\n",
    "np.fromfunction(fun, (2,3))"
   ]
  },
  {
   "cell_type": "code",
   "execution_count": 82,
   "id": "be41a441",
   "metadata": {},
   "outputs": [
    {
     "data": {
      "text/plain": [
       "array([[ 0.,  1.,  2.],\n",
       "       [10., 11., 12.]])"
      ]
     },
     "execution_count": 82,
     "metadata": {},
     "output_type": "execute_result"
    }
   ],
   "source": [
    "np.fromfunction(lambda x,y:10*x+y, (2,3))"
   ]
  },
  {
   "cell_type": "code",
   "execution_count": 84,
   "id": "ace2a20d",
   "metadata": {},
   "outputs": [
    {
     "data": {
      "text/plain": [
       "array(['h', 'e', 'l', 'l', 'o'], dtype='<U1')"
      ]
     },
     "execution_count": 84,
     "metadata": {},
     "output_type": "execute_result"
    }
   ],
   "source": [
    "np.fromiter(\"hello\", dtype = '<U1')"
   ]
  },
  {
   "cell_type": "code",
   "execution_count": 88,
   "id": "1e036c6f",
   "metadata": {},
   "outputs": [
    {
     "data": {
      "text/plain": [
       "array([1, 2, 3, 4], dtype=int16)"
      ]
     },
     "execution_count": 88,
     "metadata": {},
     "output_type": "execute_result"
    }
   ],
   "source": [
    "np.fromstring('1; 2; 3; 4', dtype = 'int16', sep = ';')"
   ]
  },
  {
   "cell_type": "markdown",
   "id": "a7d247bb",
   "metadata": {},
   "source": [
    "#4"
   ]
  },
  {
   "cell_type": "code",
   "execution_count": 95,
   "id": "2ffc60f2",
   "metadata": {},
   "outputs": [
    {
     "name": "stdout",
     "output_type": "stream",
     "text": [
      "[0.1 0.2 0.3 0.4 0.5 0.6 0.7 0.8 0.9]\n",
      "float64\n"
     ]
    },
    {
     "data": {
      "text/plain": [
       "array([-102, -103, -103, -103, -103, -103,  -71,   63, -102, -103, -103,\n",
       "       -103, -103, -103,  -55,   63,   52,   51,   51,   51,   51,   51,\n",
       "        -45,   63, -102, -103, -103, -103, -103, -103,  -39,   63,    0,\n",
       "          0,    0,    0,    0,    0,  -32,   63,   51,   51,   51,   51,\n",
       "         51,   51,  -29,   63,  103,  102,  102,  102,  102,  102,  -26,\n",
       "         63, -102, -103, -103, -103, -103, -103,  -23,   63,  -51,  -52,\n",
       "        -52,  -52,  -52,  -52,  -20,   63], dtype=int8)"
      ]
     },
     "execution_count": 95,
     "metadata": {},
     "output_type": "execute_result"
    }
   ],
   "source": [
    "a = np.arange(0.1,1,0.1)\n",
    "print(a)\n",
    "print(a.dtype)\n",
    "a.dtype = np.int8()\n",
    "a"
   ]
  },
  {
   "cell_type": "code",
   "execution_count": 96,
   "id": "3ff9be78",
   "metadata": {},
   "outputs": [
    {
     "data": {
      "text/plain": [
       "array([0.1, 0.2, 0.3, 0.4, 0.5, 0.6, 0.7, 0.8, 0.9])"
      ]
     },
     "execution_count": 96,
     "metadata": {},
     "output_type": "execute_result"
    }
   ],
   "source": [
    "a.dtype = np.float64()\n",
    "a"
   ]
  },
  {
   "cell_type": "code",
   "execution_count": 98,
   "id": "24940bb6",
   "metadata": {},
   "outputs": [
    {
     "data": {
      "text/plain": [
       "72"
      ]
     },
     "execution_count": 98,
     "metadata": {},
     "output_type": "execute_result"
    }
   ],
   "source": [
    "a.size*a.itemsize"
   ]
  },
  {
   "cell_type": "code",
   "execution_count": 106,
   "id": "bb8be5d8",
   "metadata": {},
   "outputs": [
    {
     "name": "stdout",
     "output_type": "stream",
     "text": [
      "[[[1. 1. 1. 1.]\n",
      "  [1. 1. 1. 1.]\n",
      "  [1. 1. 1. 1.]]\n",
      "\n",
      " [[1. 1. 1. 1.]\n",
      "  [1. 1. 1. 1.]\n",
      "  [1. 1. 1. 1.]]]\n"
     ]
    },
    {
     "data": {
      "text/plain": [
       "array([[1., 1., 1., 1., 1., 1.],\n",
       "       [1., 1., 1., 1., 1., 1.],\n",
       "       [1., 1., 1., 1., 1., 1.],\n",
       "       [1., 1., 1., 1., 1., 1.]])"
      ]
     },
     "execution_count": 106,
     "metadata": {},
     "output_type": "execute_result"
    }
   ],
   "source": [
    "b = np.ones((2,3,4))\n",
    "print(b)\n",
    "b.ndim\n",
    "b.shape = 4,6\n",
    "b"
   ]
  },
  {
   "cell_type": "code",
   "execution_count": 107,
   "id": "02c8981d",
   "metadata": {},
   "outputs": [
    {
     "data": {
      "text/plain": [
       "array([[[1., 1., 1., 1.],\n",
       "        [1., 1., 1., 1.],\n",
       "        [1., 1., 1., 1.]],\n",
       "\n",
       "       [[1., 1., 1., 1.],\n",
       "        [1., 1., 1., 1.],\n",
       "        [1., 1., 1., 1.]]])"
      ]
     },
     "execution_count": 107,
     "metadata": {},
     "output_type": "execute_result"
    }
   ],
   "source": [
    "c = b.reshape(2,3,4)\n",
    "c"
   ]
  },
  {
   "cell_type": "code",
   "execution_count": 109,
   "id": "59049676",
   "metadata": {},
   "outputs": [
    {
     "data": {
      "text/plain": [
       "array([[[100.,   1.,   1.,   1.],\n",
       "        [  1.,   1.,   1.,   1.],\n",
       "        [  1.,   1.,   1.,   1.]],\n",
       "\n",
       "       [[  1.,   1.,   1.,   1.],\n",
       "        [  1.,   1.,   1.,   1.],\n",
       "        [  1.,   1.,   1.,   1.]]])"
      ]
     },
     "execution_count": 109,
     "metadata": {},
     "output_type": "execute_result"
    }
   ],
   "source": [
    "b[0][0] = 100 \n",
    "c"
   ]
  },
  {
   "cell_type": "code",
   "execution_count": 110,
   "id": "fe163f84",
   "metadata": {},
   "outputs": [
    {
     "data": {
      "text/plain": [
       "array([[100.,   1.,   1.,   1.],\n",
       "       [  1.,   1.,   1.,   1.],\n",
       "       [  1.,   1.,   1.,   1.],\n",
       "       [  1.,   1.,   1.,   1.],\n",
       "       [  1.,   1.,   1.,   1.],\n",
       "       [  1.,   1.,   1.,   1.]])"
      ]
     },
     "execution_count": 110,
     "metadata": {},
     "output_type": "execute_result"
    }
   ],
   "source": [
    "d = b.T #transponir\n",
    "d"
   ]
  },
  {
   "cell_type": "markdown",
   "id": "022a9b9a",
   "metadata": {},
   "source": [
    "жесть"
   ]
  },
  {
   "cell_type": "code",
   "execution_count": 113,
   "id": "306bdc18",
   "metadata": {},
   "outputs": [
    {
     "data": {
      "text/plain": [
       "array([[1, 2, 3],\n",
       "       [4, 5, 6],\n",
       "       [7, 8, 9]])"
      ]
     },
     "execution_count": 113,
     "metadata": {},
     "output_type": "execute_result"
    }
   ],
   "source": [
    "a = np.arange(1,10,1)\n",
    "b = a #\"совместное использование\" \n",
    "a.shape = 3,3\n",
    "b"
   ]
  },
  {
   "cell_type": "code",
   "execution_count": 121,
   "id": "b4cda7b3",
   "metadata": {},
   "outputs": [
    {
     "name": "stdout",
     "output_type": "stream",
     "text": [
      "[1 2 3 4 5 6 7 8 9] \n",
      "\n",
      "[[  1   2   3]\n",
      " [  4   5 100]\n",
      " [  7   8   9]] \n",
      "\n",
      " [  1   2   3   4   5 100   7   8   9]\n"
     ]
    }
   ],
   "source": [
    "a = np.arange(1,10,1)\n",
    "b = a.view()                 #копирование представления\n",
    "print(b,'\\n')\n",
    "a.shape = 3,3\n",
    "a[1][2] = 100\n",
    "print(a,'\\n\\n',b)"
   ]
  },
  {
   "cell_type": "code",
   "execution_count": 133,
   "id": "d3224745",
   "metadata": {},
   "outputs": [
    {
     "name": "stdout",
     "output_type": "stream",
     "text": [
      "[[ 1  2 10]\n",
      " [ 4  5  6]\n",
      " [ 7  8  9]] \n",
      " [1 2 3 4 5 6 7 8 9]\n"
     ]
    }
   ],
   "source": [
    "a = np.arange(1,10,1)\n",
    "b = np.array(a)          #полное копирование\n",
    "a[2] = 10\n",
    "a.shape = 3,3\n",
    "print(a,'\\n',b)"
   ]
  },
  {
   "cell_type": "markdown",
   "id": "6ab4a800",
   "metadata": {},
   "source": [
    "#5"
   ]
  },
  {
   "cell_type": "code",
   "execution_count": 139,
   "id": "6ecee3af",
   "metadata": {},
   "outputs": [
    {
     "name": "stdout",
     "output_type": "stream",
     "text": [
      "[0 1 2 3 4 5 6 7 8 9]\n",
      "[[0 1]\n",
      " [2 3]\n",
      " [4 5]\n",
      " [6 7]\n",
      " [8 9]]\n"
     ]
    }
   ],
   "source": [
    "a = np.arange(0,10,1)\n",
    "print(a)\n",
    "a.shape = -1,2          # <- неважно сколько строк, главное что 2 столбца\n",
    "print(a)"
   ]
  },
  {
   "cell_type": "code",
   "execution_count": 141,
   "id": "b8c05825",
   "metadata": {},
   "outputs": [
    {
     "data": {
      "text/plain": [
       "array([[0, 1, 2, 3, 4],\n",
       "       [5, 6, 7, 8, 9]])"
      ]
     },
     "execution_count": 141,
     "metadata": {},
     "output_type": "execute_result"
    }
   ],
   "source": [
    "a.reshape(2,-1)"
   ]
  },
  {
   "cell_type": "code",
   "execution_count": 145,
   "id": "9be92276",
   "metadata": {},
   "outputs": [
    {
     "data": {
      "text/plain": [
       "array([0, 1, 2, 3, 4, 5, 6, 7, 8, 9])"
      ]
     },
     "execution_count": 145,
     "metadata": {},
     "output_type": "execute_result"
    }
   ],
   "source": [
    "c = a.ravel()\n",
    "a.shape = -1\n",
    "a"
   ]
  },
  {
   "cell_type": "code",
   "execution_count": 146,
   "id": "176e330f",
   "metadata": {},
   "outputs": [
    {
     "data": {
      "text/plain": [
       "array([[0, 1, 2],\n",
       "       [3, 4, 5],\n",
       "       [6, 7, 8]])"
      ]
     },
     "execution_count": 146,
     "metadata": {},
     "output_type": "execute_result"
    }
   ],
   "source": [
    "a.resize(3,3, refcheck = False)\n",
    "a"
   ]
  },
  {
   "cell_type": "code",
   "execution_count": 147,
   "id": "f6f847f7",
   "metadata": {},
   "outputs": [
    {
     "data": {
      "text/plain": [
       "array([[0, 1, 2, 3, 4],\n",
       "       [5, 6, 7, 8, 0],\n",
       "       [0, 0, 0, 0, 0],\n",
       "       [0, 0, 0, 0, 0]])"
      ]
     },
     "execution_count": 147,
     "metadata": {},
     "output_type": "execute_result"
    }
   ],
   "source": [
    "a.resize(4,5, refcheck = False)\n",
    "a"
   ]
  },
  {
   "cell_type": "code",
   "execution_count": 153,
   "id": "4b36d449",
   "metadata": {},
   "outputs": [
    {
     "name": "stdout",
     "output_type": "stream",
     "text": [
      "[1 2 3 4] \n",
      " [1 2 3 4]\n"
     ]
    }
   ],
   "source": [
    "x = np.arange(1,5,1)\n",
    "print(x,'\\n',x.T)"
   ]
  },
  {
   "cell_type": "code",
   "execution_count": 154,
   "id": "5b703a11",
   "metadata": {},
   "outputs": [
    {
     "name": "stdout",
     "output_type": "stream",
     "text": [
      "[[1 2 3 4]] \n",
      " [[1]\n",
      " [2]\n",
      " [3]\n",
      " [4]]\n"
     ]
    }
   ],
   "source": [
    "x.shape = 1,-1\n",
    "print(x,'\\n',x.T)"
   ]
  },
  {
   "cell_type": "code",
   "execution_count": null,
   "id": "1a702c17",
   "metadata": {},
   "outputs": [],
   "source": []
  },
  {
   "cell_type": "code",
   "execution_count": null,
   "id": "84bddd7c",
   "metadata": {},
   "outputs": [],
   "source": []
  }
 ],
 "metadata": {
  "kernelspec": {
   "display_name": "Python 3 (ipykernel)",
   "language": "python",
   "name": "python3"
  },
  "language_info": {
   "codemirror_mode": {
    "name": "ipython",
    "version": 3
   },
   "file_extension": ".py",
   "mimetype": "text/x-python",
   "name": "python",
   "nbconvert_exporter": "python",
   "pygments_lexer": "ipython3",
   "version": "3.9.13"
  }
 },
 "nbformat": 4,
 "nbformat_minor": 5
}
