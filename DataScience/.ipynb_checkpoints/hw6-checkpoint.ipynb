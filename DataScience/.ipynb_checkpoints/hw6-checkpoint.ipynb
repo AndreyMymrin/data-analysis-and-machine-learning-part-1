{
 "cells": [
  {
   "cell_type": "markdown",
   "id": "9157b443",
   "metadata": {},
   "source": [
    "# <a href=\"https://miptstats.github.io/courses/ad_mipt.html\">Phystech@DataScience</a>\n",
    "## Домашнее задание 6\n",
    "\n",
    "**Правила, <font color=\"red\">прочитайте внимательно</font>:**\n",
    "\n",
    "* Выполненную работу нужно отправить телеграм-боту `@miptstats_pds_bot`. Для начала работы с ботом каждый раз отправляйте `/start`. **Работы, присланные иным способом, не принимаются.**\n",
    "* Дедлайн см. в боте. После дедлайна работы не принимаются кроме случаев наличия уважительной причины.\n",
    "* Прислать нужно ноутбук в формате `ipynb`.\n",
    "* Выполнять задание необходимо полностью самостоятельно. **При обнаружении списывания все участники списывания будут сдавать устный зачет.**\n",
    "* Решения, размещенные на каких-либо интернет-ресурсах, не принимаются. Кроме того, публикация решения в открытом доступе может быть приравнена к предоставлении возможности списать.\n",
    "* Для выполнения задания используйте этот ноутбук в качестве основы, ничего не удаляя из него. Можно добавлять необходимое количество ячеек.\n",
    "* Комментарии к решению пишите в markdown-ячейках.\n",
    "* Выполнение задания (ход решения, выводы и пр.) должно быть осуществлено на русском языке.\n",
    "* Если код будет не понятен проверяющему, оценка может быть снижена.\n",
    "* Никакой код из данного задания при проверке запускаться не будет. *Если код студента не выполнен, недописан и т.д., то он не оценивается.*\n",
    "* **Код из рассказанных на занятиях ноутбуков можно использовать без ограничений.**\n",
    "\n",
    "**Правила оформления теоретических задач:**\n",
    "\n",
    "* Решения необходимо прислать одним из следующих способов:\n",
    "  * фотографией в правильной ориентации, где все четко видно, а почерк разборчив,\n",
    "    * отправив ее как файл боту вместе с ноутбуком *или*\n",
    "    * вставив ее в ноутбук посредством `Edit -> Insert Image` (<font color=\"red\">фото, вставленные ссылкой, не принимаются</font>);\n",
    "  * в виде $\\LaTeX$ в markdown-ячейках.\n",
    "* Решения не проверяются, если какое-то требование не выполнено. Особенно внимательно все проверьте в случае выбора второго пункта (вставки фото в ноутбук). <font color=\"red\"><b>Неправильно вставленные фотографии могут не передаться при отправке.</b></font> Для проверки попробуйте переместить `ipynb` в другую папку и открыть его там.\n",
    "* В решениях поясняйте, чем вы пользуетесь, хотя бы кратко. Например, если пользуетесь независимостью, то достаточно подписи вида \"*X и Y незав.*\"\n",
    "* Решение, в котором есть только ответ, и отсутствуют вычисления, оценивается в 0 баллов.\n",
    "\n",
    "**Баллы за задание:**\n",
    "\n",
    "<b><font color=\"blue\">Легкая часть</font></b> (достаточно на \"хор\"):\n",
    "* Задача 1 &mdash; 15 баллов\n",
    "* Задача 2 &mdash; 20 баллов\n",
    "* Задача 3 &mdash;  20 баллов\n",
    "* Задача 4 &mdash;  25 баллов\n",
    "* Задача 5 &mdash; 25 баллов\n",
    "\n",
    "<b><font color=\"orange\">Сложная часть</font></b> (необходимо на \"отл\"):\n",
    "* Задача 6 &mdash; 35 баллов\n",
    "* Задача 7 &mdash; 40 баллов\n",
    "\n",
    "\n",
    "-----"
   ]
  },
  {
   "cell_type": "code",
   "execution_count": 2,
   "id": "6744ddcf",
   "metadata": {},
   "outputs": [],
   "source": [
    "import numpy as np\n",
    "import scipy.stats as sps\n",
    "import matplotlib.pyplot as plt\n",
    "import seaborn as sns\n",
    "\n",
    "sns.set(palette='Set2')"
   ]
  },
  {
   "cell_type": "markdown",
   "id": "004c83b3",
   "metadata": {},
   "source": [
    "### <b><i><font color=\"blue\">Легкая часть</font></i></b> \n",
    "### Задача 1\n",
    "\n",
    "Для критерия Вальда для проверки гипотез с $\\mathsf{H}_0: \\theta = \\theta_0$ найдите мощность критерия, а также эквивалентный доверительный интервал для\n",
    "- двустронней альтернативы (мощность была выведена на лекции)\n",
    "\n",
    "$\\beta_s(\\theta) = 1 - \\Phi(z_{1-\\frac{\\alpha}{2}}-\\omega(\\theta)), \\omega(\\theta) = \\frac{\\theta-\\theta_0}{\\widehat{\\sigma}}$\n",
    "\n",
    "$(\\widehat{\\theta} \\pm z_{1-\\frac{\\alpha}{2}}\\frac{\\widehat{\\sigma}}{\\sqrt{n}})$\n",
    "\n",
    "- левосторонней альтернативы\n",
    "\n",
    "$\\beta_s(\\theta) = 1 - \\Phi(z_{1-\\alpha}-\\omega(\\theta))$\n",
    "\n",
    "$(-\\infty, \\widehat{\\theta} - z_{\\alpha}\\frac{\\widehat{\\sigma}}{\\sqrt{n}})$\n",
    "\n",
    "- правосторонней альтернативы\n",
    "\n",
    "$\\beta_s(\\theta) = \\Phi(z_{\\alpha}-\\omega(\\theta))$\n",
    "\n",
    "$(\\widehat{\\theta} + z_{1-\\alpha}\\frac{\\widehat{\\sigma}}{\\sqrt{n}}, +\\infty)$"
   ]
  },
  {
   "cell_type": "markdown",
   "id": "0d1a2899",
   "metadata": {},
   "source": [
    "### Задача 2\n",
    " Пусть $X = ( X_1, ... X_n)$ &mdash; выборка из неизвестного распределения $\\mathsf{P} \\in \\{ \\mathsf{P}_{\\theta} | \\theta \\in \\Theta \\}$\n",
    "и для проверки гипотез $\\mathsf{H}_0 \\colon \\theta \\in [−1, 1]$   vs.  $\\mathsf{H}_1 \\colon \\theta \\notin [−1, 1]$ используется критерий\n",
    "$S = \\{x \\in \\mathbb{R}^n | T(x) > 1\\}$. Предположим, $T(x)$ имеет распределение $\\mathcal{N}(\\theta, 1)$. Какие\n",
    "ответы возможны в результате проверки данных гипотез и в каких случаях? Найдите\n",
    "вероятность ошибки первого рода.\n",
    "\n",
    "*Указание:*\n",
    "- Не забудьте, что в определении вероятности ошибки I рода стоит супремум по всем параметрам из основной гипотезы\n",
    "- Можно показать, где достигается супремум графически. Например, с помощью `sps.norm`, где параметр `loc` отвечает за сдвиг.\n"
   ]
  },
  {
   "cell_type": "markdown",
   "id": "ce6e0bd9",
   "metadata": {},
   "source": [
    "$P(I_s) = sup_{\\theta \\in \\Theta_0} P_\\theta(x\\in S) = P_\\theta(x\\in S)|_{\\theta = 1}$"
   ]
  },
  {
   "cell_type": "code",
   "execution_count": 42,
   "id": "b227378f",
   "metadata": {},
   "outputs": [
    {
     "data": {
      "image/png": "[encoded data removed]",
      "text/plain": [
       "<Figure size 640x480 with 1 Axes>"
      ]
     },
     "metadata": {},
     "output_type": "display_data"
    }
   ],
   "source": [
    "sample_size = 30000\n",
    "theta = np.array([np.arange(-1,1,0.01)]*sample_size)\n",
    "T = sps.norm.rvs(loc = theta, size = (sample_size,200)).T\n",
    "y = np.zeros(200)\n",
    "for i in range (200):\n",
    "    time_T = T[i]\n",
    "    y[i] = len(time_T[time_T>1])/sample_size\n",
    "plt.plot(theta[0], y);\n",
    "plt.xlabel(r'$\\theta$')\n",
    "plt.ylabel(r'$P_\\theta(x\\in S)$');"
   ]
  },
  {
   "cell_type": "markdown",
   "id": "d5953131",
   "metadata": {},
   "source": [
    "### Задача 3\n",
    "\n",
    "Проведен эксперимент, получены данные из экспоненциального распределения. "
   ]
  },
  {
   "cell_type": "code",
   "execution_count": 48,
   "id": "874ad1c7",
   "metadata": {},
   "outputs": [],
   "source": [
    "sample = np.array([[0.11731702, 0.75253036, 0.32918642, 0.22823564, 0.04240622,\n",
    "        0.04239907, 0.01495969, 0.50280772, 0.22977054, 0.30781252,\n",
    "        0.00519983, 0.87588937, 0.44660739, 0.05967191, 0.05016975,\n",
    "        0.05065286, 0.09068843, 0.18598196, 0.14138427, 0.08605575,\n",
    "        0.23659272, 0.03755863, 0.08637888, 0.1140693 , 0.15223367,\n",
    "        0.384484  , 0.05568397, 0.18050729, 0.22437618, 0.01189096]])"
   ]
  },
  {
   "cell_type": "markdown",
   "id": "3a3e2c61",
   "metadata": {},
   "source": [
    "Необходимо проверить, является ли это распределение с параметром $\\lambda=2$. Используя Критерий Вальда, сделайте вывод по данному предположению.\n",
    "\n",
    "$X_1, ... X_n$ - выборка из распределения $Exp(\\theta)$.  \n",
    "Проверьте гипотезу $\\mathsf{H}_0\\colon \\theta = 2$ c правосторонней и левосторонней альтернативами."
   ]
  },
  {
   "cell_type": "markdown",
   "id": "dd8eb639",
   "metadata": {},
   "source": [
    "1. Оформите функцию подсчета статистики критерия, p-value и доверительного интервала "
   ]
  },
  {
   "cell_type": "markdown",
   "id": "a38f0954",
   "metadata": {},
   "source": [
    "param sample: реализация выборки $\\newline$\n",
    "param theta: истинное значение параметра$\\newline$\n",
    "param estimation_theta: оценка параметра$\\newline$\n",
    "param estimation_sigma: оценка асимптотической дисперсии оценки estimation_sigma$\\newline$\n",
    "param alternative: вид альтернативной гипотезы, может принимать одно из значений 'two_sided', 'less', 'greater'$\\newline$\n",
    "return statistic$\\newline$\n",
    "return p_value$\\newline$\n",
    "return conf_int - доверительный интервал$\\newline$\n",
    "\n",
    "Т.к. в задании не требуется two-side, я его реализовывать не буду"
   ]
  },
  {
   "cell_type": "code",
   "execution_count": 43,
   "id": "990255d6",
   "metadata": {},
   "outputs": [],
   "source": [
    "alpha = 0.05\n",
    "theta = 2 # тета из основной гипотезы"
   ]
  },
  {
   "cell_type": "code",
   "execution_count": 44,
   "id": "d82257c3",
   "metadata": {},
   "outputs": [],
   "source": [
    "def wald_test(sample, theta, estimation_theta, estimation_sigma, alternative='two_sided'):\n",
    "    if alternative == \"less\":       return(wald_test_left(sample, theta, estimation_theta, estimation_sigma))\n",
    "    if alternative == \"greater\":    return(wald_test_right(sample, theta, estimation_theta, estimation_sigma))\n",
    "    if alternative == \"two_sided\":  return(wald_test_two_sided(sample, theta, estimation_theta, estimation_sigma))\n",
    "    \n",
    "def wald_test_left(sample, theta, estimation_theta, estimation_sigma):\n",
    "    n = len(sample[0])\n",
    "    z = sps.norm.ppf(alpha)\n",
    "    statistic = np.sqrt(n)*(estimation_theta-theta)/estimation_sigma\n",
    "    p_value = sps.norm.cdf(statistic)\n",
    "    conf_int = np.array([estimation_theta-z*estimation_sigma/np.sqrt(n),np.inf])\n",
    "    return [statistic, p_value, conf_int.T]\n",
    "\n",
    "def wald_test_right(sample, theta, estimation_theta, estimation_sigma):\n",
    "    n = len(sample[0])\n",
    "    z = sps.norm.ppf(1-alpha)\n",
    "    statistic = np.sqrt(n)*(estimation_theta-theta)/estimation_sigma\n",
    "    p_value = sps.norm.sf(statistic)\n",
    "    conf_int = np.array([-np.inf,estimation_theta-z*estimation_sigma/np.sqrt(n)])\n",
    "    return [statistic, p_value, conf_int.T]\n",
    "\n",
    "def wald_test_two_sided(sample, theta, estimation_theta, estimation_sigma):\n",
    "    n = len(sample[0])\n",
    "    z = sps.norm.ppf(1-alpha/2)\n",
    "    statistic = np.sqrt(n)*(estimation_theta-theta)/estimation_sigma\n",
    "    p_value = 2*sps.norm.sf(np.absolute(statistic))\n",
    "    conf_int = np.array([estimation_theta-z*estimation_sigma/np.sqrt(n),estimation_theta+z*estimation_sigma/np.sqrt(n)])\n",
    "    return [statistic, p_value, conf_int.T]"
   ]
  },
  {
   "cell_type": "markdown",
   "id": "b9269b95",
   "metadata": {},
   "source": [
    "2. Проверьте гипотезу с правосторонней альтернативой."
   ]
  },
  {
   "cell_type": "code",
   "execution_count": 49,
   "id": "852db5bd",
   "metadata": {},
   "outputs": [
    {
     "name": "stdout",
     "output_type": "stream",
     "text": [
      "p_value = 0.0\n",
      "интервал = [ -inf 4.904]\n"
     ]
    }
   ],
   "source": [
    "print('p_value = ' + str(wald_test(sample, theta, 1/sample.mean(), sample.mean(), 'greater')[1].round(3)))\n",
    "print('интервал = ' + str(wald_test(sample, theta, 1/sample.mean(), sample.mean(), 'greater')[2].round(3)))"
   ]
  },
  {
   "cell_type": "markdown",
   "id": "677c5087",
   "metadata": {},
   "source": [
    "**Вывод:** $H_0$ можно смело отклонять"
   ]
  },
  {
   "cell_type": "markdown",
   "id": "14bcda8f",
   "metadata": {},
   "source": [
    "3. Проверьте гипотезу с левосторонней альтернативой."
   ]
  },
  {
   "cell_type": "code",
   "execution_count": 67,
   "id": "e37f9413",
   "metadata": {},
   "outputs": [
    {
     "name": "stdout",
     "output_type": "stream",
     "text": [
      "p_value = 0.0\n",
      "интервал = [1.233   inf]\n"
     ]
    }
   ],
   "source": [
    "print('p_value = ' + str(wald_test(sample, theta, 1/sample.mean(), sample.mean(), 'less')[1].round(3)))\n",
    "print('интервал = ' + str(wald_test(sample, theta, 1/sample.mean(), sample.mean(), 'less')[2].round(3)))"
   ]
  },
  {
   "cell_type": "markdown",
   "id": "a899cb81",
   "metadata": {},
   "source": [
    "**Вывод:** $H_0$ не отклоняем"
   ]
  },
  {
   "cell_type": "markdown",
   "id": "37f3364a",
   "metadata": {},
   "source": [
    "\n",
    "\n",
    "### Задача 4\n",
    "\n",
    "На практике часто рассматривают асимптотические критерии, например, критерий Вальда. Такие критерии контролируют вероятность ошибки I рода на уровне $\\alpha$ только в пределе, однако для небольших выборок она может сильно отличаться от $\\alpha$, причем не редко в большую сторону. Поэтому для таких критериев возникает необходимость в вычислении значения вероятности ошибки I рода или *реального уровня значимости* при конечной выборке.\n",
    "\n",
    "Зачастую посчитать точное значение реального уровня значимости довольно сложно, поэтому вместо него вычисляют оценку с помощью семплирования по методу Монте-Карло.\n",
    "\n",
    "Пусть гипотеза $\\mathsf{H}_0$ простая, то есть $\\mathsf{H}_0\\colon \\mathsf{P} = \\mathsf{P}_0$. Для ее проверки по конечной выборке $X_1, ..., X_n$ используется критерий $S$. **Опишите схему оценки реального уровня** значимости критерия $S$ методом Монте-Карло."
   ]
  },
  {
   "cell_type": "markdown",
   "id": "d76af73a",
   "metadata": {},
   "source": [
    "**Ответ:**\n",
    "\n",
    "- Генерируем k выборок $x^k = (x_1^k,... x_n^k)$ из распределения $\\theta = \\theta_0$\n",
    "\n",
    "- Для каждого $i \\in ${1,2,...k} считаем $I^i = I(x^i \\in S)$\n",
    "\n",
    "- $\\widehat{P(I_s)} = \\overline{I(x \\in S)}$\n",
    "- погрешность ~ $\\frac{1}{\\sqrt{k}}$"
   ]
  },
  {
   "cell_type": "markdown",
   "id": "1d6e5aaa",
   "metadata": {},
   "source": [
    "Если гипотеза $\\mathsf{H}_0$ сложная, то есть $\\mathsf{H}_0\\colon \\mathsf{P} \\in \\mathscr{P}_0$, то можно повторить такую процедуру несколько раз для разных $\\mathsf{P} \\in \\mathscr{P}_0$.\n",
    "\n",
    "Рассмотрим альтернативную гипотезу $\\mathsf{H}_1\\colon \\mathsf{P} \\in \\mathscr{P}_1$. **Опишите схему оценки мощности** критерия $S$ методом Монте-Карло."
   ]
  },
  {
   "cell_type": "markdown",
   "id": "b7ef9eb9",
   "metadata": {},
   "source": [
    "**Ответ:**\n",
    "\n",
    "- Генерируем m на k выборок: $x^{j,i} = (x_1^{j,i},... x_n^{j,i})$ из распределения $P_i \\in \\mathscr{P}_1$, где $i \\in ${1,2,...m}, $j \\in ${1,2,...k}\n",
    "\n",
    "- Для каждого i,j считаем $I^{j,i} = I(x^{j,i} \\in S)$\n",
    "\n",
    "- $\\widehat{\\beta_s(\\theta)} = \\overline{I(x \\in S)}$"
   ]
  },
  {
   "cell_type": "markdown",
   "id": "9dd91e81",
   "metadata": {},
   "source": [
    "Пусть $X_1, ..., X_n$ &mdash; выборка из пуассоновского распределения с параметром $\\theta$. Рассмотрим гипотезы $\\mathsf{H}_0\\colon \\theta = 1\\ \\ vs.\\ \\ \\mathsf{H}_1\\colon \\theta \\not= 1$ и критерий Вальда для их проверки.\n",
    "\n",
    "**1.** **Оцените реальный уровень значимости** критерия для $ n = 50$."
   ]
  },
  {
   "cell_type": "code",
   "execution_count": 50,
   "id": "988feee1",
   "metadata": {},
   "outputs": [
    {
     "data": {
      "text/plain": [
       "0.0037"
      ]
     },
     "execution_count": 50,
     "metadata": {},
     "output_type": "execute_result"
    }
   ],
   "source": [
    "n = 50\n",
    "k = 10000\n",
    "theta0 = 1\n",
    "sample = sps.poisson.rvs(mu = theta0, size = (k,n))\n",
    "W = wald_test(sample, theta0, sample.mean(axis = 1), sample.mean(axis = 1))[0]\n",
    "I_mean = len(W[W> sps.norm.ppf(1-alpha/2)])/len(W)\n",
    "I_mean"
   ]
  },
  {
   "cell_type": "markdown",
   "id": "76973cfd",
   "metadata": {},
   "source": [
    "**Вывод:** Оценка реального уровня получилось малой, потому что мы взяли в качестве $\\theta$ что является реальным параметром распределения."
   ]
  },
  {
   "cell_type": "markdown",
   "id": "4e645cc9",
   "metadata": {},
   "source": [
    "**3.** Пусть $n=50$. **Сравните мощности критериев**, соответствующих двусторонней, левосторонней и правосторонней альтернативам при $\\theta=0.2$ и при $\\theta=2$."
   ]
  },
  {
   "cell_type": "code",
   "execution_count": 51,
   "id": "51b10c35",
   "metadata": {},
   "outputs": [
    {
     "name": "stdout",
     "output_type": "stream",
     "text": [
      "theta  left  two   right\n",
      "0.2    0.3327 0.3595 0.1376\n",
      "2      0.0254 0.0115 0.0016\n"
     ]
    },
    {
     "name": "stderr",
     "output_type": "stream",
     "text": [
      "C:\\Users\\AsusPro\\AppData\\Local\\Temp\\ipykernel_29100\\2834974133.py:19: VisibleDeprecationWarning: Creating an ndarray from ragged nested sequences (which is a list-or-tuple of lists-or-tuples-or ndarrays with different lengths or shapes) is deprecated. If you meant to do this, you must specify 'dtype=object' when creating the ndarray.\n",
      "  conf_int = np.array([-np.inf,estimation_theta-z*estimation_sigma/np.sqrt(n)])\n",
      "C:\\Users\\AsusPro\\AppData\\Local\\Temp\\ipykernel_29100\\2834974133.py:11: VisibleDeprecationWarning: Creating an ndarray from ragged nested sequences (which is a list-or-tuple of lists-or-tuples-or ndarrays with different lengths or shapes) is deprecated. If you meant to do this, you must specify 'dtype=object' when creating the ndarray.\n",
      "  conf_int = np.array([estimation_theta-z*estimation_sigma/np.sqrt(n),np.inf])\n"
     ]
    }
   ],
   "source": [
    "print('theta  left  two   right')\n",
    "theta = 0.2\n",
    "sample = sps.poisson.rvs(mu = theta, size = (k,n))\n",
    "W_right = wald_test(sample, theta, sample.mean(axis = 1), sample.mean(axis = 1), 'greater')[0]\n",
    "W_left = wald_test(sample, theta, sample.mean(axis = 1), sample.mean(axis = 1), 'less')[0]\n",
    "W_two = wald_test(sample, theta, sample.mean(axis = 1), sample.mean(axis = 1))[0]\n",
    "I_right = len(W_right[W_right > sps.norm.ppf(1-alpha)])/len(W_right)\n",
    "I_left = len(W_left[W_left < sps.norm.ppf(alpha)])/len(W_left)\n",
    "I_two = len(W_two[np.absolute(W_two) > sps.norm.ppf(1-alpha/2)])/len(W_two)\n",
    "print('0.2   ', I_left, I_two, I_right)\n",
    "\n",
    "theta = 2\n",
    "sample = sps.poisson.rvs(mu = theta, size = (k,n))\n",
    "W_right = wald_test(sample, theta, sample.mean(axis = 1), sample.mean(axis = 1), 'greater')[0]\n",
    "W_left = wald_test(sample, theta, sample.mean(axis = 1), sample.mean(axis = 1), 'less')[0]\n",
    "W_two = wald_test(sample, theta, sample.mean(axis = 1), sample.mean(axis = 1))[0]\n",
    "I_right = len(W_right[W_right > sps.norm.ppf(1-alpha)])/len(W_right)\n",
    "I_left = len(W_left[W_left < sps.norm.ppf(alpha)])/len(W_left)\n",
    "I_two = len(W_two[np.absolute(W_two) > sps.norm.ppf(1-alpha/2)])/len(W_two)\n",
    "print('2     ', I_left, I_two, I_right)"
   ]
  },
  {
   "cell_type": "markdown",
   "id": "9419248f",
   "metadata": {},
   "source": [
    "**Вывод:**\n",
    "\n",
    "Мы хотим максимизировать мощность, поэтому стоит брать $H_0$: $\\theta$ = 0.2  и $H_1$: $\\theta \\neq 0.2$"
   ]
  },
  {
   "cell_type": "markdown",
   "id": "bc47e3b0",
   "metadata": {},
   "source": [
    "\n",
    "\n",
    "### Задача 5"
   ]
  },
  {
   "cell_type": "markdown",
   "id": "2d01f479",
   "metadata": {},
   "source": [
    "**Профиль физика**\n",
    "\n",
    "Период колебания математического маятника можно расчиатать по следующей формуле:\n",
    "$$T = 2\\pi \\sqrt{\\frac{l}{g}}$$\n",
    "Вы выполнили лабораторную работу по вычислению ускорения свободного падения. Длина нити маятника 50 см. В своей работе вы измеряли время 10 полных колебаний (10 периодов) с помощью обычного секундомера и получили такие значение: \n",
    "\n",
    "\n"
   ]
  },
  {
   "cell_type": "code",
   "execution_count": 38,
   "id": "48281659",
   "metadata": {},
   "outputs": [],
   "source": [
    "T_sample = np.array([[14.47, 14.46, 14.73, 14.74, 16.14, 12.6, 14.17, 12.83, 14.1, 12.81, 12.98, \n",
    "            13.84, 13.96, 13.6, 14.13, 15.32, 13.98, 13.96, 12.86, 15.46, 13.2, 15.26, \n",
    "            14.86, 14.49, 14.8, 12.92, 14.65, 14.47, 15.88, 15.04, 14.84, 15.12, 12.96, \n",
    "            16.2, 11.99, 15.57, 13.55, 13.16, 14.76, 13.79, 12.58, 14.61, 14.1, 14.54, \n",
    "            14.72, 14.87, 13.37, 14.04, 13.09, 14.7]])"
   ]
  },
  {
   "cell_type": "markdown",
   "id": "c548b045",
   "metadata": {},
   "source": [
    "Получите массив величин g, используя формулу выше."
   ]
  },
  {
   "cell_type": "code",
   "execution_count": 90,
   "id": "75e37d64",
   "metadata": {},
   "outputs": [
    {
     "data": {
      "text/plain": [
       "array([[ 9.43,  9.44,  9.1 ,  9.09,  7.58, 12.43,  9.83, 11.99,  9.93,\n",
       "        12.03, 11.72, 10.31, 10.13, 10.67,  9.89,  8.41, 10.1 , 10.13,\n",
       "        11.94,  8.26, 11.33,  8.48,  8.94,  9.4 ,  9.01, 11.83,  9.2 ,\n",
       "         9.43,  7.83,  8.73,  8.96,  8.63, 11.75,  7.52, 13.73,  8.14,\n",
       "        10.75, 11.4 ,  9.06, 10.38, 12.47,  9.25,  9.93,  9.34,  9.11,\n",
       "         8.93, 11.04, 10.01, 11.52,  9.13]])"
      ]
     },
     "execution_count": 90,
     "metadata": {},
     "output_type": "execute_result"
    }
   ],
   "source": [
    "n = 10\n",
    "l = 0.5\n",
    "g = l*4*np.pi**2/((T_sample/n)**2)\n",
    "g.round(2)"
   ]
  },
  {
   "cell_type": "markdown",
   "id": "c7c6586c",
   "metadata": {},
   "source": [
    "Предположим, такие величины имеют нормальное распределение $\\mathcal{N}(a, \\sigma^2)$. Используйте критерий Вальда для проверки гипотезы $\\mathsf{H}_0: a = 9.81$ vs $\\mathsf{H}_1: a \\neq 9.81$\n"
   ]
  },
  {
   "cell_type": "code",
   "execution_count": 91,
   "id": "5669ee57",
   "metadata": {},
   "outputs": [
    {
     "data": {
      "text/plain": [
       "[0.5110411562794385, 0.6093222383709417, array([ 9.40669136, 10.49780594])]"
      ]
     },
     "execution_count": 91,
     "metadata": {},
     "output_type": "execute_result"
    }
   ],
   "source": [
    "a = 9.81\n",
    "wald_test(g, a, g.mean(), g.var(), alternative='two_sided')"
   ]
  },
  {
   "cell_type": "markdown",
   "id": "e163db40",
   "metadata": {},
   "source": [
    "**Вывод:** \n",
    "\n",
    "Мы не отвергаем гипотезу, так как 'a' лежит в интервале и p_value > $\\alpha = 0.05$"
   ]
  },
  {
   "cell_type": "markdown",
   "id": "6e70e12a",
   "metadata": {},
   "source": [
    "**Профиль биология**\n",
    "\n",
    "Испытывается эффективность препарата, понижающего температуру. Каждому пациенту измеряют температуру до и после приема препарата. В результате разность температур для испытуемых получилась равной: \n"
   ]
  },
  {
   "cell_type": "code",
   "execution_count": null,
   "id": "0cea9ef2",
   "metadata": {},
   "outputs": [],
   "source": [
    "a_sample = [1.19, 0.84, 1.3, 0.76, 0.99, 1.3, 0.97, 0.91, 0.97, 0.99, 1.18, 0.93, 0.84, 1.07, 0.95,\n",
    "     1.01, 1.04, 0.84, 1.0, 1.19, 1.31, 0.97, 1.1, 0.86, 1.02, 0.95, 0.93, 0.84, 0.85, 0.78]"
   ]
  },
  {
   "cell_type": "markdown",
   "id": "85a0eb3f",
   "metadata": {},
   "source": [
    "Предположим, такие величины имеют нормальное распределение $\\mathcal{N}(a, \\sigma^2)$. С помощью критерия Вальда проверьте гипотезу: $\\mathsf{H}_0 \\colon a=0$ vs. $\\mathsf{H}_1 \\colon a > 0$."
   ]
  },
  {
   "cell_type": "code",
   "execution_count": null,
   "id": "aab196d9",
   "metadata": {},
   "outputs": [],
   "source": [
    "<...>"
   ]
  },
  {
   "cell_type": "markdown",
   "id": "d98f0ff2",
   "metadata": {},
   "source": [
    "**Вывод:**"
   ]
  },
  {
   "cell_type": "markdown",
   "id": "419d4ccd",
   "metadata": {},
   "source": [
    "Студенты **профиля химия** могут решать любую из задач."
   ]
  },
  {
   "cell_type": "markdown",
   "id": "034c700e",
   "metadata": {},
   "source": [
    "--- \n",
    "### <b><i><font color=\"orange\">Сложная часть</font></i></b> \n",
    "\n",
    "\n",
    "###  Задача 6\n",
    "1. Пусть $X = ( X_1, ... X_n)$ &mdash; выборка из неизвестного распределения $\\mathsf{P} \\in \\mathcal{N}(a, \\sigma^2)$. Постройте критерий для проверки гипотез $\\mathsf{H}_0 \\colon a = 0 $   vs.  $\\mathsf{H}_1 \\colon a > 0$ уровня значимости $\\alpha$.\n",
    "\n",
    "Бонусный сложный пункт: получите выражение для p-value аналогично правостороннему критерию Вальда\n",
    "\n",
    "*Указание:*\n",
    "- Используйте статистику $T(X) = \\sqrt{n - 1} \\frac{\\overline{X}}{s}$, использовавшуюся при построении точных доверительных интервалов в нормальной модели. Какое распределение она имеет при справедливости $\\mathsf{H}_0$ (т.е. при $a = 0$)? \n",
    "- Подумайте, какой вид должен иметь критерий? При каких значениях $T(X)$ гипотезу $\\mathsf{H}_0$ разумно отвергать?\n",
    "- Этот критерий реализован в `scipy.stats.ttest_1samp`. Использовать для данной задачи его можно следующим образом: `sps.ttest_1samp(sample, popmean=0, alternative='greater')`. В результате применения функция вернет значение статистики критерия, p-value и количество степеней свободы. Вы можете проверить свой ответ с ее помощью."
   ]
  },
  {
   "cell_type": "markdown",
   "id": "91f19505",
   "metadata": {},
   "source": [
    "**Ответ**\n",
    "\n",
    "На лекции выводилось и доказывалось, что $T(X) = \\sqrt{n - 1} \\frac{\\overline{X}}{s}$ ~ $T_{n-1}$ - распределение Стьюдента с n-1 степенями свободы\n",
    "\n",
    "T(X) = $\\sqrt{n - 1} \\frac{\\overline{X}}{s}$, но $a = \\overline{X}$ то есть при больших \"a\" мы веротнее получим большие значения, тогда критерий будет иметь вид S = {T(x) > $C_{\\alpha}$}\n",
    "\n",
    "$P(I_s) = P_0(T(x) > C_{\\alpha})$ Расписывая через функцию распределения Стьюдента и требуя $P(I_s) < \\alpha$ и максимизируя мощьность критерия находим $C_{\\alpha}$\n",
    "\n",
    "Обозначим t = $\\sqrt{n - 1} \\frac{\\overline{X}}{s}$ - реализация стат. критерия\n",
    "\n",
    "p-value = 1 - $\\Phi(t)$\n",
    "\n",
    "**Проверка:**"
   ]
  },
  {
   "cell_type": "code",
   "execution_count": 90,
   "id": "ad0449f1",
   "metadata": {},
   "outputs": [
    {
     "name": "stdout",
     "output_type": "stream",
     "text": [
      "0.721822120655278 0.7218221193267538\n"
     ]
    }
   ],
   "source": [
    "sample_size = 50000000\n",
    "sample = sps.norm.rvs(size =sample_size)\n",
    "t = np.sqrt(sample_size-1)*sample.mean()/sample.std()\n",
    "my_p_value = sps.norm.sf(t)\n",
    "pv = sps.ttest_1samp(sample, popmean=0, alternative='greater')[1]\n",
    "print(my_p_value, pv)"
   ]
  },
  {
   "cell_type": "markdown",
   "id": "5b415e77",
   "metadata": {},
   "source": [
    "2. Пусть  $X = ( X_1, ... X_n)$ &mdash; выборка из неизвестного распределения $\\mathsf{P}$ с конечным вторым моментом. Постройте асимптотический критерий для проверки гипотез $\\mathsf{H}_0 \\colon EX_1 = 0 $   vs.  $\\mathsf{H}_1 \\colon  EX_1 > 0$ уровня значимости $\\alpha$. Покажите, что при $n \\to \\infty$ этот критерий совпадает с критерием из первого пункта."
   ]
  },
  {
   "cell_type": "markdown",
   "id": "8c0ea8d0",
   "metadata": {},
   "source": [
    "Не очень понимаю как это деоать для произвольного распределения... :("
   ]
  },
  {
   "cell_type": "markdown",
   "id": "ae010418",
   "metadata": {},
   "source": [
    "\n",
    "\n",
    "### Задача 7\n",
    "\n",
    "Это задание является продолжением задачи 6. Здесь вам необходимо наглядно сравнить два критерия из предыдущей задачи. Для этого прооделайте все пункты для обоих критериев. Обязательно подписывайте какой график к какому критерию относится."
   ]
  },
  {
   "cell_type": "markdown",
   "id": "c2faba73",
   "metadata": {},
   "source": [
    "\n",
    "**1.** **Оцените реальный уровень значимости** критерия для размеров выборки $1 \\leqslant n \\leqslant 50$ и визуализируйте полученную зависимость."
   ]
  },
  {
   "cell_type": "code",
   "execution_count": 143,
   "id": "66a277e5",
   "metadata": {},
   "outputs": [
    {
     "data": {
      "image/png": "[encoded data removed]",
      "text/plain": [
       "<Figure size 640x480 with 1 Axes>"
      ]
     },
     "metadata": {},
     "output_type": "display_data"
    }
   ],
   "source": [
    "n_array = np.arange(2,51,1)\n",
    "k = 1000000\n",
    "c = sps.norm.ppf(1-alpha/2)\n",
    "a = 0\n",
    "y = np.zeros(len(n_array))\n",
    "i = 0\n",
    "for n in n_array:\n",
    "    sample = sps.norm.rvs(loc = a, size = (k,n))\n",
    "    T = np.sqrt(n-1)*sample.mean(axis = 1)/sample.std(axis = 1)\n",
    "    y[i] = len(T[T>c])/len(T)\n",
    "    i += 1\n",
    "plt.plot(n_array,y)\n",
    "plt.title(r'$T(X) = \\sqrt{n - 1}$ $\\frac{\\overline{X}}{s}$')\n",
    "plt.xlabel(r'$n$')\n",
    "plt.ylabel(r'$P(I_s)$');"
   ]
  },
  {
   "cell_type": "markdown",
   "id": "b3b4b5f2",
   "metadata": {},
   "source": [
    "**Вывод:**\n",
    "\n",
    "Реальный уровень значимости уменьшается при росте выборки и выходит на некоторую ненулевую константу\n",
    "\n",
    "P.S. я убрал n = 1, так как при нём s = 0 "
   ]
  },
  {
   "cell_type": "markdown",
   "id": "922d526c",
   "metadata": {},
   "source": [
    "**2.** Для значений $n \\in \\{5, 15, 30, 50, 100\\}$ **оцените функцию мощности критерия** для значений $\\theta \\in (0, 5)$ по сетке с шагом 0.25 по методу Монте-Карло. Визуализируйте полученные зависимости. Посчитайте также мощность критерия по асимптотической формуле, полученной на лекции, и сравните с оценкой мощности методом Монте-Карло. Учтите, что асимптотическая формула содержит $n$, поэтому для нее тоже должно быть три зависимости."
   ]
  },
  {
   "cell_type": "code",
   "execution_count": null,
   "id": "b53c62dd",
   "metadata": {},
   "outputs": [],
   "source": [
    "..."
   ]
  },
  {
   "cell_type": "markdown",
   "id": "09c13389",
   "metadata": {},
   "source": [
    "**Вывод:**..."
   ]
  },
  {
   "cell_type": "markdown",
   "id": "6ddcca25",
   "metadata": {},
   "source": [
    "**3.** Пусть $n=50$. **Сравните мощности критериев**, соответствующих двусторонней, левосторонней и правосторонней альтернативам при $\\theta \\in (0, 5)$ по сетке с шагом 0.25."
   ]
  },
  {
   "cell_type": "code",
   "execution_count": null,
   "id": "8fcea43e",
   "metadata": {},
   "outputs": [],
   "source": [
    "..."
   ]
  },
  {
   "cell_type": "markdown",
   "id": "202c27ab",
   "metadata": {},
   "source": [
    "**Вывод:**..."
   ]
  },
  {
   "cell_type": "markdown",
   "id": "504c4b8b",
   "metadata": {},
   "source": [
    "Сделайте общий вывод по сравнению двух критериев."
   ]
  },
  {
   "cell_type": "markdown",
   "id": "d6aacc05",
   "metadata": {},
   "source": [
    "**Вывод:**"
   ]
  }
 ],
 "metadata": {
  "kernelspec": {
   "display_name": "Python 3 (ipykernel)",
   "language": "python",
   "name": "python3"
  },
  "language_info": {
   "codemirror_mode": {
    "name": "ipython",
    "version": 3
   },
   "file_extension": ".py",
   "mimetype": "text/x-python",
   "name": "python",
   "nbconvert_exporter": "python",
   "pygments_lexer": "ipython3",
   "version": "3.9.13"
  }
 },
 "nbformat": 4,
 "nbformat_minor": 5
}
